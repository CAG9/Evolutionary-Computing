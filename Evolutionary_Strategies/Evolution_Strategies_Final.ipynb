{
 "cells": [
  {
   "cell_type": "code",
   "execution_count": 2,
   "metadata": {},
   "outputs": [],
   "source": [
    "import numpy as np\n",
    "import math\n",
    "import random\n",
    "import pandas as pd"
   ]
  },
  {
   "cell_type": "code",
   "execution_count": null,
   "metadata": {},
   "outputs": [],
   "source": [
    "with open('input.txt', 'r') as file:\n",
    "    input_lines = [line.strip() for line in file]\n",
    "    \n",
    "variables = int(input_lines[0])\n",
    "popu = int(input_lines[1].split()[0])\n",
    "gen = int(input_lines[1].split()[1])\n",
    "alpha = float(input_lines[2].split()[0])\n",
    "epsilon = float(input_lines[2].split()[1])"
   ]
  },
  {
   "cell_type": "markdown",
   "metadata": {},
   "source": [
    "## Ackley Function\n",
    "## Función Ackley"
   ]
  },
  {
   "cell_type": "code",
   "execution_count": 14,
   "metadata": {},
   "outputs": [],
   "source": [
    "def f(arrX):\n",
    "    firstpart = 0.0\n",
    "    secondpart = 0.0\n",
    "    for c in arrX:\n",
    "        firstpart += c**2.0\n",
    "        secondpart += math.cos(2.0*math.pi*c)\n",
    "    n = float(len(arrX))\n",
    "    return (-20.0*math.exp(-0.2*math.sqrt(firstpart/n)) - math.exp(secondpart/n) + 20 + math.e)"
   ]
  },
  {
   "cell_type": "code",
   "execution_count": 4,
   "metadata": {},
   "outputs": [],
   "source": [
    "n = 2\n",
    "c = 0.6\n",
    "gen = 1000\n",
    "k = 50"
   ]
  },
  {
   "cell_type": "markdown",
   "metadata": {},
   "source": [
    "# 20 Points\n",
    "# 20 Puntos"
   ]
  },
  {
   "cell_type": "markdown",
   "metadata": {},
   "source": [
    "## Initial Population\n",
    "## Población Inicial"
   ]
  },
  {
   "cell_type": "code",
   "execution_count": 1128,
   "metadata": {},
   "outputs": [],
   "source": [
    "def getInitial(variables):\n",
    "    A = np.random.uniform(-30,30,variables)\n",
    "    B = np.random.uniform(0,1,1)\n",
    "    Func = f(A) \n",
    "    p =  np.concatenate((A, B), axis=0)\n",
    "    p = [p,Func]\n",
    "    return p"
   ]
  },
  {
   "cell_type": "code",
   "execution_count": 1130,
   "metadata": {},
   "outputs": [
    {
     "data": {
      "text/plain": [
       "[array([-13.19042191,  19.80903514,   0.23097577]), 20.5883264779901]"
      ]
     },
     "execution_count": 1130,
     "metadata": {},
     "output_type": "execute_result"
    }
   ],
   "source": [
    "arr = getInitial(n)\n",
    "arr"
   ]
  },
  {
   "cell_type": "markdown",
   "metadata": {},
   "source": [
    "## Mutation\n",
    "## Mutacion"
   ]
  },
  {
   "cell_type": "code",
   "execution_count": 1131,
   "metadata": {},
   "outputs": [],
   "source": [
    "def mutation(arr,variables):\n",
    "    sigma = arr[0][-1]\n",
    "    \n",
    "    \n",
    "    for i in range(variables):\n",
    "        arr[0][i] += sigma*np.random.normal(0,1)\n",
    "    \n",
    "    for i in range(variables):\n",
    "        if arr[0][i] < -30:\n",
    "            arr[0][i] = -30\n",
    "        elif arr[0][i] > 30:\n",
    "            arr[0][i] = 30\n",
    "    \n",
    " \n",
    "    Func = f(arr[0][:variables])\n",
    "    MutationX = [arr[0],Func]\n",
    "    \n",
    "    \n",
    "    return MutationX "
   ]
  },
  {
   "cell_type": "code",
   "execution_count": 1132,
   "metadata": {},
   "outputs": [
    {
     "data": {
      "text/plain": [
       "[array([-13.48150853,  19.6777685 ,   0.23097577]), 21.54399035226378]"
      ]
     },
     "execution_count": 1132,
     "metadata": {},
     "output_type": "execute_result"
    }
   ],
   "source": [
    "mutation(arr,2)"
   ]
  },
  {
   "cell_type": "code",
   "execution_count": 1133,
   "metadata": {},
   "outputs": [],
   "source": [
    "def EE1plus1(n,c,gen,k):\n",
    "    t = 0\n",
    "    m_sucess = 0\n",
    "    initial = getInitial(n)\n",
    "    while t <= gen:\n",
    "        MutatedX =  mutation(initial.copy(),n)\n",
    "        if MutatedX[1] < initial[1]:\n",
    "            initial = MutatedX\n",
    "            m_sucess += 1\n",
    "        t +=1 \n",
    "        if t % k == 0:\n",
    "            ps = m_sucess/k\n",
    "            \n",
    "            \n",
    "            if ps > (1/5):\n",
    "                sigma = sigma / c\n",
    "                initial[0][-1] = sigma\n",
    "                \n",
    "            elif ps < 1/5: \n",
    "                sigma = sigma * c\n",
    "                initial[0][-1] = sigma\n",
    "            m_sucess = 0\n",
    "        \n",
    "        return initial \n",
    "    "
   ]
  },
  {
   "cell_type": "code",
   "execution_count": 1139,
   "metadata": {},
   "outputs": [
    {
     "data": {
      "text/plain": [
       "[array([-0.38477458, 12.48264654,  0.37590219]), 16.675723567242517]"
      ]
     },
     "execution_count": 1139,
     "metadata": {},
     "output_type": "execute_result"
    }
   ],
   "source": [
    "n = 2\n",
    "c = 0.80\n",
    "gen = 1000\n",
    "k = 50\n",
    "EE1plus1(n,c,gen,k)"
   ]
  },
  {
   "cell_type": "code",
   "execution_count": 754,
   "metadata": {},
   "outputs": [
    {
     "name": "stdout",
     "output_type": "stream",
     "text": [
      "Best Solutuion: [array([-0.11015093, -0.13409211,  0.33424483]), 0.03656611589017489]\n"
     ]
    }
   ],
   "source": [
    "besto = EE1plus1(n,c,gen,k)\n",
    "for i in range(1000000):\n",
    "    curr = EE1plus1(n,c,gen,k)\n",
    "    if curr[1] < besto[-1]:\n",
    "        besto = curr\n",
    "print(\"Best Solutuion:\",besto)"
   ]
  },
  {
   "cell_type": "markdown",
   "metadata": {},
   "source": [
    "## $(\\mu,\\lambda)-EE$"
   ]
  },
  {
   "cell_type": "code",
   "execution_count": 1167,
   "metadata": {},
   "outputs": [],
   "source": [
    "def f(arrX):\n",
    "    firstpart = 0.0\n",
    "    secondpart = 0.0\n",
    "    for c in arrX:\n",
    "        firstpart += c**2.0\n",
    "        secondpart += math.cos(2.0*math.pi*c)\n",
    "    n = float(len(arrX))\n",
    "    return (-20.0*math.exp(-0.2*math.sqrt(firstpart/n)) - math.exp(secondpart/n) + 20 + math.e)"
   ]
  },
  {
   "cell_type": "code",
   "execution_count": 1168,
   "metadata": {},
   "outputs": [],
   "source": [
    "def getInitialPopulation(popu,variables):\n",
    "    parents = []\n",
    "    for i in range(popu):\n",
    "        A = np.random.uniform(-30,30,variables)\n",
    "        B = np.random.uniform(0,1,1)\n",
    "        Func = f(A) \n",
    "        p =  np.concatenate((A, B), axis=0)\n",
    "        p = [p,Func]\n",
    "        parents.append(p)\n",
    "    return parents"
   ]
  },
  {
   "cell_type": "code",
   "execution_count": 1169,
   "metadata": {},
   "outputs": [
    {
     "data": {
      "text/plain": [
       "[[array([-20.24436304,  26.49067444,   0.85556714]), 21.921200372924414],\n",
       " [array([24.61594398, 12.31605377,  0.80731371]), 21.747574252767574],\n",
       " [array([  4.74465427, -17.19657359,   0.30795286]), 19.95422095512209],\n",
       " [array([17.76430577, -4.36839417,  0.5231079 ]), 20.46801543604245],\n",
       " [array([10.73277336, 20.35467057,  0.77629522]), 21.248159923780772],\n",
       " [array([ 26.63320017, -21.70218211,   0.93999281]), 21.9460368670781],\n",
       " [array([ 7.53355887, -0.30869152,  0.92007664]), 15.320544252953944],\n",
       " [array([13.36566864, 16.08149755,  0.31960334]), 20.569812129295386],\n",
       " [array([ 24.95885318, -14.27081599,   0.75477065]), 20.856165659903407],\n",
       " [array([18.91374204, 19.15080787,  0.7032182 ]), 20.218972010741975]]"
      ]
     },
     "execution_count": 1169,
     "metadata": {},
     "output_type": "execute_result"
    }
   ],
   "source": [
    "arr = getInitialPopulation(10,2)\n",
    "arr"
   ]
  },
  {
   "cell_type": "code",
   "execution_count": 1170,
   "metadata": {},
   "outputs": [],
   "source": [
    "#arr1 = arr[random.randint(0,len(arr))]\n",
    "#arr2 = arr[random.randint(0,len(arr))]\n",
    "#np.concatenate((arr1, arr2), axis=0)"
   ]
  },
  {
   "cell_type": "code",
   "execution_count": 1171,
   "metadata": {},
   "outputs": [
    {
     "data": {
      "text/plain": [
       "[[array([13.36566864, 16.08149755,  0.31960334]), 20.569812129295386],\n",
       " [array([ 7.53355887, -0.30869152,  0.92007664]), 15.320544252953944]]"
      ]
     },
     "execution_count": 1171,
     "metadata": {},
     "output_type": "execute_result"
    }
   ],
   "source": [
    "alpha = random.choices(arr,k=2)\n",
    "alpha"
   ]
  },
  {
   "cell_type": "code",
   "execution_count": 1172,
   "metadata": {},
   "outputs": [
    {
     "data": {
      "text/plain": [
       "array([13.36566864, 16.08149755,  0.31960334])"
      ]
     },
     "execution_count": 1172,
     "metadata": {},
     "output_type": "execute_result"
    }
   ],
   "source": [
    "alpha[0][0]"
   ]
  },
  {
   "cell_type": "code",
   "execution_count": 1173,
   "metadata": {},
   "outputs": [],
   "source": [
    "def offspring(parents,n):\n",
    "    new_x = []\n",
    "    for i in range(n):\n",
    "        if np.random.uniform(0,1,1)[0] < 0.5:\n",
    "            new_x.append(parents[0][0][i])\n",
    "        else:\n",
    "            new_x.append(parents[1][0][i])\n",
    "            \n",
    "    if np.random.uniform(0,1,1)[0] < 0.5:\n",
    "        new_x.append(parents[0][0][-1])\n",
    "    else:\n",
    "        new_x.append(parents[1][0][-1])\n",
    "        \n",
    "    return new_x"
   ]
  },
  {
   "cell_type": "code",
   "execution_count": 1174,
   "metadata": {},
   "outputs": [
    {
     "data": {
      "text/plain": [
       "[13.365668639527861, -0.3086915228786786, 0.9200766425171301]"
      ]
     },
     "execution_count": 1174,
     "metadata": {},
     "output_type": "execute_result"
    }
   ],
   "source": [
    "new_arr = offspring(alpha,2)\n",
    "new_arr"
   ]
  },
  {
   "cell_type": "code",
   "execution_count": 1176,
   "metadata": {},
   "outputs": [],
   "source": [
    "def mutation(arr,tau,n,epsilon):\n",
    "    new_sigma = arr[-1] * (math.e**(tau * np.random.normal(0,1,1)[0]))\n",
    "\n",
    "    \n",
    "    if new_sigma < epsilon:\n",
    "        new_sigma = epsilon\n",
    "        \n",
    "    MutationX = arr[:n] + (new_sigma * np.random.normal(0,1,n))\n",
    "    \n",
    "    MutationX[MutationX < -30] = -30\n",
    "    MutationX[MutationX > 30 ] = 30\n",
    "    MutationX2 = np.concatenate((MutationX, [new_sigma]), axis=0)\n",
    "    return MutationX2\n",
    "        \n",
    "        \n",
    "    "
   ]
  },
  {
   "cell_type": "code",
   "execution_count": 1177,
   "metadata": {},
   "outputs": [
    {
     "data": {
      "text/plain": [
       "array([15.12456228,  0.87435678,  1.42311176])"
      ]
     },
     "execution_count": 1177,
     "metadata": {},
     "output_type": "execute_result"
    }
   ],
   "source": [
    "mutation(new_arr,1/math.sqrt(2),2,0.001)"
   ]
  },
  {
   "cell_type": "code",
   "execution_count": 1178,
   "metadata": {},
   "outputs": [],
   "source": [
    "def alphalambdaEE(n,Gen,epsilon=0.01,tau=None,mu=100,lamb=700):\n",
    "    if tau == None:\n",
    "        tau = 1/math.sqrt(n)\n",
    "        \n",
    "    t = 0\n",
    "    population = getInitialPopulation(mu,n)\n",
    "    \n",
    "    while t <= Gen:\n",
    "        cont = 0\n",
    "        sons = []\n",
    "        \n",
    "        while cont < lamb:\n",
    "            parents = random.choices(population,k=2)\n",
    "\n",
    "            child = offspring(parents,n)\n",
    "            child = mutation(child,tau,n,epsilon)\n",
    "            #child = children(parents,n,tau,epsilon)\n",
    "            sons.append([child,f(child[:n])])\n",
    "            cont  += 1\n",
    "        \n",
    "        #population = sorted(population, key = lambda x:x[-1],reverse=True)[:mu].copy()\n",
    "        sons = sorted(sons, key = lambda x:x[-1])\n",
    "    \n",
    "        population = sons[:mu].copy()\n",
    "        t += 1\n",
    "    best = population[0]\n",
    "    return best"
   ]
  },
  {
   "cell_type": "code",
   "execution_count": 1179,
   "metadata": {},
   "outputs": [
    {
     "data": {
      "text/plain": [
       "[array([-0.00042455, -0.0003947 ,  0.01      ]), 0.0016485301854456402]"
      ]
     },
     "execution_count": 1179,
     "metadata": {},
     "output_type": "execute_result"
    }
   ],
   "source": [
    "alphalambdaEE(2,100,0.01,None,100,700)"
   ]
  },
  {
   "cell_type": "markdown",
   "metadata": {},
   "source": [
    "# 40 Points\n",
    "# 40 Puntos"
   ]
  },
  {
   "cell_type": "code",
   "execution_count": 1188,
   "metadata": {},
   "outputs": [],
   "source": [
    "def f(arrX):\n",
    "    firstpart = 0.0\n",
    "    secondpart = 0.0\n",
    "    for c in arrX:\n",
    "        firstpart += c**2.0\n",
    "        secondpart += math.cos(2.0*math.pi*c)\n",
    "    n = float(len(arrX))\n",
    "    return (-20.0*math.exp(-0.2*math.sqrt(firstpart/n)) - math.exp(secondpart/n) + 20 + math.e)"
   ]
  },
  {
   "cell_type": "code",
   "execution_count": 1189,
   "metadata": {},
   "outputs": [],
   "source": [
    "def getInitialPopulation(popu,variables):\n",
    "    parents = []\n",
    "    for i in range(popu):\n",
    "        A = np.random.uniform(-30,30,variables)\n",
    "        B = np.random.uniform(0,1,1)\n",
    "        Func = f(A) \n",
    "        p =  np.concatenate((A, B), axis=0)\n",
    "        p = [p,Func]\n",
    "        parents.append(p)\n",
    "    return parents"
   ]
  },
  {
   "cell_type": "code",
   "execution_count": 1190,
   "metadata": {},
   "outputs": [
    {
     "data": {
      "text/plain": [
       "[[array([14.44348763, 21.41506731,  0.36569331]), 21.793155857815755],\n",
       " [array([20.07368882,  1.56065243,  0.18057822]), 20.575032775749175],\n",
       " [array([11.23891869, -1.09799105,  0.19342117]), 17.110852894506724],\n",
       " [array([ 5.43137612, 16.17828307,  0.17085428]), 20.138757916767236],\n",
       " [array([ -5.99384251, -17.61430485,   0.48472219]), 20.147570193325528],\n",
       " [array([-19.17145219,  12.10183589,   0.78413607]), 20.015492676952345],\n",
       " [array([ 10.56362648, -10.70052441,   0.9929376 ]), 19.791660860318046],\n",
       " [array([ 7.77454495, 25.8033705 ,  0.71068005]), 21.00287930875098],\n",
       " [array([-12.58718503,  22.33776382,   0.35107326]), 21.683678274763317],\n",
       " [array([-11.00794528,   3.42810734,   0.61333023]), 17.750881425181028]]"
      ]
     },
     "execution_count": 1190,
     "metadata": {},
     "output_type": "execute_result"
    }
   ],
   "source": [
    "arr = getInitialPopulation(10,2)\n",
    "arr"
   ]
  },
  {
   "cell_type": "markdown",
   "metadata": {},
   "source": [
    "##### I modify this function\n",
    "##### Modifique esta función"
   ]
  },
  {
   "cell_type": "code",
   "execution_count": 1191,
   "metadata": {},
   "outputs": [],
   "source": [
    "def offspring(parents,n):\n",
    "    new_x = []\n",
    "    for i in range(n):\n",
    "        if np.random.uniform(0,1,1)[0] < 0.5:\n",
    "            \n",
    "            if np.random.uniform(0,1,1)[0] < 0.5:\n",
    "                new_x.append(parents[0][0][i])\n",
    "            else:\n",
    "                new_x.append(parents[1][0][i])\n",
    "                \n",
    "        else:\n",
    "            new_x.append((parents[0][0][i] + parents[1][0][i])/2)\n",
    "    if np.random.uniform(0,1,1)[0] < 0.5:\n",
    "        \n",
    "        if np.random.uniform(0,1,1)[0] < 0.5:\n",
    "            new_x.append(parents[0][0][-1])\n",
    "        else:\n",
    "            new_x.append(parents[1][0][-1])\n",
    "            \n",
    "    else: \n",
    "        new_x.append((parents[0][0][-1] + parents[1][0][-1])/2)\n",
    "    return new_x"
   ]
  },
  {
   "cell_type": "code",
   "execution_count": 1192,
   "metadata": {},
   "outputs": [
    {
     "data": {
      "text/plain": [
       "[17.25858822664659, 21.41506730607928, 0.2731357640149106]"
      ]
     },
     "execution_count": 1192,
     "metadata": {},
     "output_type": "execute_result"
    }
   ],
   "source": [
    "new_arr = offspring(arr[:2],2)\n",
    "new_arr"
   ]
  },
  {
   "cell_type": "code",
   "execution_count": 1193,
   "metadata": {},
   "outputs": [],
   "source": [
    "def mutation(arr,tau,n,epsilon):\n",
    "    new_sigma = arr[-1] * (math.e**(tau * np.random.normal(0,1,1)[0]))\n",
    "\n",
    "    #new_sigma[new_sigma < epsilon] = epsilon\n",
    "    if new_sigma < epsilon:\n",
    "        new_sigma = epsilon\n",
    "        \n",
    "    MutationX = arr[:n] + (new_sigma * np.random.normal(0,1,n))\n",
    "    \n",
    "    MutationX[MutationX < -30] = -30/2\n",
    "    MutationX[MutationX > 30 ] = 30/2\n",
    "    MutationX2 = np.concatenate((MutationX, [new_sigma]), axis=0)\n",
    "    return MutationX2\n",
    "        \n",
    "        \n",
    "    "
   ]
  },
  {
   "cell_type": "code",
   "execution_count": 1194,
   "metadata": {},
   "outputs": [
    {
     "data": {
      "text/plain": [
       "array([17.86427052, 20.77217541,  0.57826362])"
      ]
     },
     "execution_count": 1194,
     "metadata": {},
     "output_type": "execute_result"
    }
   ],
   "source": [
    "mutation(new_arr,1/math.sqrt(2),2,0.001)"
   ]
  },
  {
   "cell_type": "code",
   "execution_count": 1195,
   "metadata": {},
   "outputs": [],
   "source": [
    "def alphalambdaEETuned(n,Gen,epsilon=0.01,tau=None,mu=100,lamb=700):\n",
    "    if tau == None:\n",
    "        tau = 1/math.sqrt(n)\n",
    "        \n",
    "    t = 0\n",
    "    population = getInitialPopulation(mu,n)\n",
    "    \n",
    "    while t <= Gen:\n",
    "        cont = 0\n",
    "        sons = []\n",
    "        \n",
    "        while cont < lamb:\n",
    "            parents = random.choices(population,k=2)\n",
    "\n",
    "            child = offspring(parents,n)\n",
    "            child = mutation(child,tau,n,epsilon)\n",
    "            #child = children(parents,n,tau,epsilon)\n",
    "            sons.append([child,f(child[:n])])\n",
    "            cont  += 1\n",
    "        \n",
    "        #population = sorted(population, key = lambda x:x[-1],reverse=True)[:mu].copy()\n",
    "        sons = sorted(sons, key = lambda x:x[-1])\n",
    "    \n",
    "        population = sons[:mu].copy()\n",
    "        t += 1\n",
    "    best = population[0]\n",
    "    return best"
   ]
  },
  {
   "cell_type": "code",
   "execution_count": 1196,
   "metadata": {},
   "outputs": [
    {
     "data": {
      "text/plain": [
       "[array([0.0003066 , 0.00026781, 0.01231617]), 0.0011558444273025437]"
      ]
     },
     "execution_count": 1196,
     "metadata": {},
     "output_type": "execute_result"
    }
   ],
   "source": [
    "alphalambdaEETuned(2,100,0.01,None,100,700)"
   ]
  },
  {
   "cell_type": "markdown",
   "metadata": {},
   "source": [
    "# 20 Points\n",
    "# 20 Puntos"
   ]
  },
  {
   "cell_type": "code",
   "execution_count": null,
   "metadata": {},
   "outputs": [],
   "source": [
    "alphalambdaEETuned(2,100,0.01,None,100,700)"
   ]
  },
  {
   "cell_type": "code",
   "execution_count": 38,
   "metadata": {},
   "outputs": [],
   "source": [
    "def f(arrX):\n",
    "    firstpart = 0.0\n",
    "    secondpart = 0.0\n",
    "    for c in arrX:\n",
    "        firstpart += c**2.0\n",
    "        secondpart += math.cos(2.0*math.pi*c)\n",
    "    n = float(len(arrX))\n",
    "    return (-20.0*math.exp(-0.2*math.sqrt(firstpart/n)) - math.exp(secondpart/n) + 20 + math.e)\n",
    "\n",
    "\n",
    "\n",
    "def getInitialPopulation(popu,variables):\n",
    "    parents = []\n",
    "    for i in range(popu):\n",
    "        A = np.random.uniform(-30,30,variables)\n",
    "        B = np.random.uniform(0,1,1)\n",
    "        Func = f(A) \n",
    "        p =  np.concatenate((A, B), axis=0)\n",
    "        p = [p,Func]\n",
    "        parents.append(p)\n",
    "    return parents\n",
    "\n",
    "def offspring(parents,n):\n",
    "    new_x = []\n",
    "    for i in range(n):\n",
    "        if np.random.uniform(0,1,1)[0] < 0.5:\n",
    "            \n",
    "            if np.random.uniform(0,1,1)[0] < 0.5:\n",
    "                new_x.append(parents[0][0][i])\n",
    "            else:\n",
    "                new_x.append(parents[1][0][i])\n",
    "                \n",
    "        else:\n",
    "            new_x.append((parents[0][0][i] + parents[1][0][i])/2)\n",
    "    if np.random.uniform(0,1,1)[0] < 0.5:\n",
    "        \n",
    "        if np.random.uniform(0,1,1)[0] < 0.5:\n",
    "            new_x.append(parents[0][0][-1])\n",
    "        else:\n",
    "            new_x.append(parents[1][0][-1])\n",
    "            \n",
    "    else: \n",
    "        new_x.append((parents[0][0][-1] + parents[1][0][-1])/2)\n",
    "    return new_x\n",
    "\n",
    "\n",
    "def mutation(arr,tau,n,epsilon):\n",
    "    new_sigma = arr[-1] * (math.e**(tau * np.random.normal(0,1,1)[0]))\n",
    "\n",
    "    #new_sigma[new_sigma < epsilon] = epsilon\n",
    "    if new_sigma < epsilon:\n",
    "        new_sigma = epsilon\n",
    "        \n",
    "    MutationX = arr[:n] + (new_sigma * np.random.normal(0,1,n))\n",
    "    \n",
    "    MutationX[MutationX < -30] = -30/2\n",
    "    MutationX[MutationX > 30 ] = 30/2\n",
    "    MutationX2 = np.concatenate((MutationX, [new_sigma]), axis=0)\n",
    "    return MutationX2\n",
    "\n",
    "\n",
    "\n",
    "def alphalambdaEETuned(n,Gen,epsilon=0.01,tau=None,mu=100,lamb=700):\n",
    "    if tau == None:\n",
    "        tau = 1/math.sqrt(n)\n",
    "        \n",
    "    t = 0\n",
    "    population = getInitialPopulation(mu,n)\n",
    "    \n",
    "    while t <= Gen:\n",
    "        cont = 0\n",
    "        sons = []\n",
    "        \n",
    "        while cont < lamb:\n",
    "            parents = random.choices(population,k=2)\n",
    "\n",
    "            child = offspring(parents,n)\n",
    "            child = mutation(child,tau,n,epsilon)\n",
    "            #child = children(parents,n,tau,epsilon)\n",
    "            sons.append([child,f(child[:n])])\n",
    "            cont  += 1\n",
    "        \n",
    "        #population = sorted(population, key = lambda x:x[-1],reverse=True)[:mu].copy()\n",
    "        sons = sorted(sons, key = lambda x:x[-1])\n",
    "    \n",
    "        population = sons[:mu].copy()\n",
    "        t += 1\n",
    "    best = population[0]\n",
    "    return best\n",
    "\n",
    "def std(solutions,mean):\n",
    "    m = mean\n",
    "    all_ = 0\n",
    "    for i in range(len(solutions)):\n",
    "        all_ = all_ + (solutions[i][1] - m)**2\n",
    "    return np.sqrt(all_/len(solutions))\n",
    "\n",
    "\n",
    "\n",
    "def customEP():\n",
    "    print(\"N variables\")\n",
    "    n = int(input())\n",
    "    print(\"Generations\")\n",
    "    Gen = int(input())\n",
    "    print(\"Epsilon\")\n",
    "    epsilon = float(input())\n",
    "    print(\"Tau\")\n",
    "    tau = input()\n",
    "    if tau == \"None\" or tau == \"\":\n",
    "        tau = tau = 1/math.sqrt(n)\n",
    "    else:\n",
    "        tau = float(tau)\n",
    "    print(\"Mu\")\n",
    "    mu = float(input())\n",
    "    print(\"Lambda\")\n",
    "    lamb = float(input())\n",
    "    print(\"M iterations\")\n",
    "    M = int(input())\n",
    "\n",
    "\n",
    "    Mean = 0\n",
    "    curr = []\n",
    "    for i in range(M):\n",
    "        a = alphalambdaEETuned(n,Gen,epsilon=0.01,tau=None,mu=100,lamb=700)\n",
    "        Mean += a[-1]\n",
    "        curr.append(a)\n",
    "    Mean = Mean/M    \n",
    "    curr = sorted(curr, key = lambda x:x[-1])\n",
    "    print(\"Best Solution Xs: {}, F: {}\".format(curr[0][0][:n],curr[0][1]))  \n",
    "    print(\"Worst Solution Xs: {}, F: {}\".format(curr[-1][0][:n],curr[-1][1]))  \n",
    "    print(\"Median Solution Xs: {}, F: {}\".format(curr[M//2][0][:n],curr[M//2][1]))  \n",
    "    print(\"Function Mean: {}\".format(Mean))\n",
    "    print(\"Standard Deviation: {}\".format(std(curr,Mean)))"
   ]
  },
  {
   "cell_type": "markdown",
   "metadata": {},
   "source": [
    "### 2"
   ]
  },
  {
   "cell_type": "code",
   "execution_count": 39,
   "metadata": {},
   "outputs": [
    {
     "name": "stdout",
     "output_type": "stream",
     "text": [
      "N variables\n"
     ]
    },
    {
     "name": "stdin",
     "output_type": "stream",
     "text": [
      " 2\n"
     ]
    },
    {
     "name": "stdout",
     "output_type": "stream",
     "text": [
      "Generations\n"
     ]
    },
    {
     "name": "stdin",
     "output_type": "stream",
     "text": [
      " 100\n"
     ]
    },
    {
     "name": "stdout",
     "output_type": "stream",
     "text": [
      "Epsilon\n"
     ]
    },
    {
     "name": "stdin",
     "output_type": "stream",
     "text": [
      " 0.01\n"
     ]
    },
    {
     "name": "stdout",
     "output_type": "stream",
     "text": [
      "Tau\n"
     ]
    },
    {
     "name": "stdin",
     "output_type": "stream",
     "text": [
      " \n"
     ]
    },
    {
     "name": "stdout",
     "output_type": "stream",
     "text": [
      "Mu\n"
     ]
    },
    {
     "name": "stdin",
     "output_type": "stream",
     "text": [
      " 100\n"
     ]
    },
    {
     "name": "stdout",
     "output_type": "stream",
     "text": [
      "Lambda\n"
     ]
    },
    {
     "name": "stdin",
     "output_type": "stream",
     "text": [
      " 700\n"
     ]
    },
    {
     "name": "stdout",
     "output_type": "stream",
     "text": [
      "M iterations\n"
     ]
    },
    {
     "name": "stdin",
     "output_type": "stream",
     "text": [
      " 10\n"
     ]
    },
    {
     "name": "stdout",
     "output_type": "stream",
     "text": [
      "Best Solution Xs: [-0.00023624 -0.00016691], F: 0.0008203724145592339\n",
      "Worst Solution Xs: [-0.00032998 -0.00091829], F: 0.0027852754121622247\n",
      "Median Solution Xs: [0.00047829 0.00046572], F: 0.0019000519245229164\n",
      "Function Mean: 0.001867486300404142\n",
      "Standard Deviation: 0.0005794703288450593\n"
     ]
    }
   ],
   "source": [
    "customEP()\n"
   ]
  },
  {
   "cell_type": "markdown",
   "metadata": {},
   "source": [
    "### 5"
   ]
  },
  {
   "cell_type": "code",
   "execution_count": 40,
   "metadata": {},
   "outputs": [
    {
     "name": "stdout",
     "output_type": "stream",
     "text": [
      "N variables\n"
     ]
    },
    {
     "name": "stdin",
     "output_type": "stream",
     "text": [
      " 5\n"
     ]
    },
    {
     "name": "stdout",
     "output_type": "stream",
     "text": [
      "Generations\n"
     ]
    },
    {
     "name": "stdin",
     "output_type": "stream",
     "text": [
      " 100\n"
     ]
    },
    {
     "name": "stdout",
     "output_type": "stream",
     "text": [
      "Epsilon\n"
     ]
    },
    {
     "name": "stdin",
     "output_type": "stream",
     "text": [
      " 0.01\n"
     ]
    },
    {
     "name": "stdout",
     "output_type": "stream",
     "text": [
      "Tau\n"
     ]
    },
    {
     "name": "stdin",
     "output_type": "stream",
     "text": [
      " \n"
     ]
    },
    {
     "name": "stdout",
     "output_type": "stream",
     "text": [
      "Mu\n"
     ]
    },
    {
     "name": "stdin",
     "output_type": "stream",
     "text": [
      " 100\n"
     ]
    },
    {
     "name": "stdout",
     "output_type": "stream",
     "text": [
      "Lambda\n"
     ]
    },
    {
     "name": "stdin",
     "output_type": "stream",
     "text": [
      " 700\n"
     ]
    },
    {
     "name": "stdout",
     "output_type": "stream",
     "text": [
      "M iterations\n"
     ]
    },
    {
     "name": "stdin",
     "output_type": "stream",
     "text": [
      " 10\n"
     ]
    },
    {
     "name": "stdout",
     "output_type": "stream",
     "text": [
      "Best Solution Xs: [ 0.00259564 -0.00044557  0.00076705 -0.00019612 -0.00250186], F: 0.006797810118570613\n",
      "Worst Solution Xs: [ 0.00017762  0.0053583  -0.00302882 -0.00550043 -0.00128716], F: 0.015691845373048796\n",
      "Median Solution Xs: [ 0.00204033 -0.003863   -0.0020195  -0.00317152 -0.0035451 ], F: 0.01259258659613538\n",
      "Function Mean: 0.011924342158578316\n",
      "Standard Deviation: 0.002876178157465859\n"
     ]
    }
   ],
   "source": [
    "customEP()"
   ]
  },
  {
   "cell_type": "markdown",
   "metadata": {},
   "source": [
    "### 10"
   ]
  },
  {
   "cell_type": "code",
   "execution_count": 41,
   "metadata": {},
   "outputs": [
    {
     "name": "stdout",
     "output_type": "stream",
     "text": [
      "N variables\n"
     ]
    },
    {
     "name": "stdin",
     "output_type": "stream",
     "text": [
      " 10\n"
     ]
    },
    {
     "name": "stdout",
     "output_type": "stream",
     "text": [
      "Generations\n"
     ]
    },
    {
     "name": "stdin",
     "output_type": "stream",
     "text": [
      " 100\n"
     ]
    },
    {
     "name": "stdout",
     "output_type": "stream",
     "text": [
      "Epsilon\n"
     ]
    },
    {
     "name": "stdin",
     "output_type": "stream",
     "text": [
      " 0.01\n"
     ]
    },
    {
     "name": "stdout",
     "output_type": "stream",
     "text": [
      "Tau\n"
     ]
    },
    {
     "name": "stdin",
     "output_type": "stream",
     "text": [
      " \n"
     ]
    },
    {
     "name": "stdout",
     "output_type": "stream",
     "text": [
      "Mu\n"
     ]
    },
    {
     "name": "stdin",
     "output_type": "stream",
     "text": [
      " 100\n"
     ]
    },
    {
     "name": "stdout",
     "output_type": "stream",
     "text": [
      "Lambda\n"
     ]
    },
    {
     "name": "stdin",
     "output_type": "stream",
     "text": [
      " 700\n"
     ]
    },
    {
     "name": "stdout",
     "output_type": "stream",
     "text": [
      "M iterations\n"
     ]
    },
    {
     "name": "stdin",
     "output_type": "stream",
     "text": [
      " 10\n"
     ]
    },
    {
     "name": "stdout",
     "output_type": "stream",
     "text": [
      "Best Solution Xs: [-1.92717121e-03  2.15631011e-03  1.21982059e-03 -1.39533421e-03\n",
      " -6.50681391e-04 -4.52234494e-03  6.33235242e-05 -3.77806429e-03\n",
      " -6.16836365e-03 -3.21479525e-03], F: 0.012858181037380678\n",
      "Worst Solution Xs: [-0.0051755   0.0144558   0.0019473   0.00130901  0.00181165 -0.00185681\n",
      "  0.00693992  0.00526804 -0.00094465 -0.00484364], F: 0.02545862659280873\n",
      "Median Solution Xs: [-0.00384606  0.00787191  0.00316997  0.00956074 -0.00741511 -0.00314098\n",
      " -0.00197539  0.00011892 -0.00196554 -0.00589395], F: 0.02289621155331334\n",
      "Function Mean: 0.021463973784096257\n",
      "Standard Deviation: 0.003501527440307167\n"
     ]
    }
   ],
   "source": [
    "customEP()"
   ]
  },
  {
   "cell_type": "markdown",
   "metadata": {},
   "source": [
    "### 20"
   ]
  },
  {
   "cell_type": "code",
   "execution_count": 42,
   "metadata": {},
   "outputs": [
    {
     "name": "stdout",
     "output_type": "stream",
     "text": [
      "N variables\n"
     ]
    },
    {
     "name": "stdin",
     "output_type": "stream",
     "text": [
      " 20\n"
     ]
    },
    {
     "name": "stdout",
     "output_type": "stream",
     "text": [
      "Generations\n"
     ]
    },
    {
     "name": "stdin",
     "output_type": "stream",
     "text": [
      " 100\n"
     ]
    },
    {
     "name": "stdout",
     "output_type": "stream",
     "text": [
      "Epsilon\n"
     ]
    },
    {
     "name": "stdin",
     "output_type": "stream",
     "text": [
      " 0.01\n"
     ]
    },
    {
     "name": "stdout",
     "output_type": "stream",
     "text": [
      "Tau\n"
     ]
    },
    {
     "name": "stdin",
     "output_type": "stream",
     "text": [
      " \n"
     ]
    },
    {
     "name": "stdout",
     "output_type": "stream",
     "text": [
      "Mu\n"
     ]
    },
    {
     "name": "stdin",
     "output_type": "stream",
     "text": [
      " 100\n"
     ]
    },
    {
     "name": "stdout",
     "output_type": "stream",
     "text": [
      "Lambda\n"
     ]
    },
    {
     "name": "stdin",
     "output_type": "stream",
     "text": [
      " 700\n"
     ]
    },
    {
     "name": "stdout",
     "output_type": "stream",
     "text": [
      "M iterations\n"
     ]
    },
    {
     "name": "stdin",
     "output_type": "stream",
     "text": [
      " 10\n"
     ]
    },
    {
     "name": "stdout",
     "output_type": "stream",
     "text": [
      "Best Solution Xs: [ 7.55861071e-04 -6.15429736e-03  6.95613656e-05 -8.58067784e-03\n",
      " -6.59081899e-03  5.58288020e-03 -5.81783329e-03 -4.72460834e-03\n",
      " -3.78860952e-04  9.37304848e-03 -1.28160468e-04  6.20730032e-03\n",
      " -4.75178471e-03 -1.54249833e-02  1.07197441e-03  2.98769195e-03\n",
      "  1.20207629e-03  5.37198426e-03  3.82193993e-03  8.85321254e-03], F: 0.02674169862316278\n",
      "Worst Solution Xs: [-1.02648184e-02  1.71314707e-02  3.41034322e-03 -2.45013787e-04\n",
      " -4.76716352e-05  1.15833928e-03  3.88143270e-04  1.35484777e-02\n",
      "  1.51605337e-02 -5.04443668e-03 -9.65668442e-03  2.82886645e-03\n",
      " -9.45696504e-03 -7.74260275e-03 -1.42741705e-02 -4.69067784e-03\n",
      " -3.36798269e-03 -1.03464229e-02 -6.94091256e-03  2.00846995e-03], F: 0.03859989966273902\n",
      "Median Solution Xs: [ 0.00545912  0.00280454  0.0060682  -0.00062176  0.00299734  0.0129549\n",
      "  0.00405764 -0.00700431 -0.00412181  0.00197983 -0.00948982 -0.01092941\n",
      "  0.002218    0.0013046  -0.00266426 -0.00208854 -0.00228579 -0.01004014\n",
      " -0.00904287  0.02103079], F: 0.03410976461025017\n",
      "Function Mean: 0.03297564096119894\n",
      "Standard Deviation: 0.003913688223371442\n"
     ]
    }
   ],
   "source": [
    "customEP()"
   ]
  },
  {
   "cell_type": "code",
   "execution_count": 51,
   "metadata": {},
   "outputs": [
    {
     "name": "stdout",
     "output_type": "stream",
     "text": [
      "N variables\n"
     ]
    },
    {
     "name": "stdin",
     "output_type": "stream",
     "text": [
      " 7\n"
     ]
    },
    {
     "name": "stdout",
     "output_type": "stream",
     "text": [
      "Generations\n"
     ]
    },
    {
     "name": "stdin",
     "output_type": "stream",
     "text": [
      " 100\n"
     ]
    },
    {
     "name": "stdout",
     "output_type": "stream",
     "text": [
      "Epsilon\n"
     ]
    },
    {
     "name": "stdin",
     "output_type": "stream",
     "text": [
      " 0.01\n"
     ]
    },
    {
     "name": "stdout",
     "output_type": "stream",
     "text": [
      "Tau\n"
     ]
    },
    {
     "name": "stdin",
     "output_type": "stream",
     "text": [
      " \n"
     ]
    },
    {
     "name": "stdout",
     "output_type": "stream",
     "text": [
      "Mu\n"
     ]
    },
    {
     "name": "stdin",
     "output_type": "stream",
     "text": [
      " 100\n"
     ]
    },
    {
     "name": "stdout",
     "output_type": "stream",
     "text": [
      "Lambda\n"
     ]
    },
    {
     "name": "stdin",
     "output_type": "stream",
     "text": [
      " 700\n"
     ]
    },
    {
     "name": "stdout",
     "output_type": "stream",
     "text": [
      "M iterations\n"
     ]
    },
    {
     "name": "stdin",
     "output_type": "stream",
     "text": [
      " 10\n"
     ]
    },
    {
     "name": "stdout",
     "output_type": "stream",
     "text": [
      "Best Solution Xs: [-1.24951328e-03  6.12130231e-05 -3.73685944e-04 -2.95711473e-03\n",
      " -1.36493073e-03 -3.24727967e-03  7.35143006e-04], F: 0.007491001381400242\n",
      "Worst Solution Xs: [ 0.00512285  0.00130206 -0.00480693  0.00306133  0.00517876  0.00222556\n",
      "  0.00914982], F: 0.02138966240965745\n",
      "Median Solution Xs: [ 0.00579054  0.00169381 -0.00108835 -0.00282419 -0.0041653   0.0056528\n",
      "  0.00062628], F: 0.015480170563666906\n",
      "Function Mean: 0.014986586526501445\n",
      "Standard Deviation: 0.003564406728654134\n"
     ]
    }
   ],
   "source": [
    "customEP()"
   ]
  },
  {
   "cell_type": "markdown",
   "metadata": {},
   "source": [
    "# 20 Points\n",
    "# 20 Puntos"
   ]
  },
  {
   "cell_type": "markdown",
   "metadata": {},
   "source": [
    "#### (1 + 1)- EE"
   ]
  },
  {
   "cell_type": "code",
   "execution_count": 923,
   "metadata": {},
   "outputs": [
    {
     "name": "stdout",
     "output_type": "stream",
     "text": [
      "Best Solution Xs: [ 1.02493299 -1.91241962], F: 5.318234859350309\n",
      "Worst Solution Xs: [ 21.37180364 -23.60822581], F: 21.919076440567302\n",
      "Median Solution Xs: [-9.84437714 24.09289851], F: 20.207187783610667\n",
      "Function Mean: 18.46839165676305\n",
      "Standard Deviation: 4.683512205078582\n"
     ]
    }
   ],
   "source": [
    "n = 2\n",
    "c = 0.85\n",
    "gen = 500\n",
    "k = 50\n",
    "M = 10\n",
    "\n",
    "def std(solutions,mean):\n",
    "    m = mean\n",
    "    all_ = 0\n",
    "    for i in range(len(solutions)):\n",
    "        all_ = all_ + (solutions[i][1] - m)**2\n",
    "    return np.sqrt(all_/len(solutions))\n",
    "\n",
    "\n",
    "\n",
    "unodos = []\n",
    "Mean = 0\n",
    "curr = []\n",
    "for i in range(M):\n",
    "    a = EE1plus1(n,c,gen,k)\n",
    "    Mean +=a [1]\n",
    "    curr.append(a)\n",
    "Mean = Mean/M    \n",
    "curr = sorted(curr, key = lambda x:x[-1])\n",
    "print(\"Best Solution Xs: {}, F: {}\".format(curr[0][0][:n],curr[0][1]))  \n",
    "unodos.append(curr[0][1])\n",
    "print(\"Worst Solution Xs: {}, F: {}\".format(curr[-1][0][:n],curr[-1][1]))  \n",
    "unodos.append(curr[-1][1])\n",
    "print(\"Median Solution Xs: {}, F: {}\".format(curr[M//2][0][:n],curr[M//2][1])) \n",
    "unodos.append(curr[M//2][1])\n",
    "print(\"Function Mean: {}\".format(Mean))\n",
    "unodos.append(Mean)\n",
    "print(\"Standard Deviation: {}\".format(std(curr,Mean)))\n",
    "unodos.append(std(curr,Mean))"
   ]
  },
  {
   "cell_type": "code",
   "execution_count": 924,
   "metadata": {},
   "outputs": [
    {
     "data": {
      "text/plain": [
       "[5.318234859350309,\n",
       " 21.919076440567302,\n",
       " 20.207187783610667,\n",
       " 18.46839165676305,\n",
       " 4.683512205078582]"
      ]
     },
     "execution_count": 924,
     "metadata": {},
     "output_type": "execute_result"
    }
   ],
   "source": [
    "unodos"
   ]
  },
  {
   "cell_type": "code",
   "execution_count": 887,
   "metadata": {},
   "outputs": [
    {
     "name": "stdout",
     "output_type": "stream",
     "text": [
      "Best Solution Xs: [ 3.00076832 -7.8942893   4.23435954  5.92239963 -7.40830709], F: 15.20733463193882\n",
      "Worst Solution Xs: [28.86271987 18.69703476 24.69348616 16.17962074 21.24737501], F: 21.345069872537223\n",
      "Median Solution Xs: [-21.07292178  20.20472986 -26.04623648 -23.18216637  11.80858798], F: 20.54687098384039\n",
      "Function Mean: 20.076922485698578\n",
      "Standard Deviation: 1.6853977325675844\n"
     ]
    }
   ],
   "source": [
    "n = 5\n",
    "c = 0.85\n",
    "gen = 500\n",
    "k = 50\n",
    "M = 10\n",
    "\n",
    "def std(solutions,mean):\n",
    "    m = mean\n",
    "    all_ = 0\n",
    "    for i in range(len(solutions)):\n",
    "        all_ = all_ + (solutions[i][1] - m)**2\n",
    "    return np.sqrt(all_/len(solutions))\n",
    "\n",
    "\n",
    "\n",
    "unocinco = []\n",
    "Mean = 0\n",
    "curr = []\n",
    "for i in range(M):\n",
    "    a = EE1plus1(n,c,gen,k)\n",
    "    Mean +=a [1]\n",
    "    curr.append(a)\n",
    "Mean = Mean/M    \n",
    "curr = sorted(curr, key = lambda x:x[-1])\n",
    "print(\"Best Solution Xs: {}, F: {}\".format(curr[0][0][:n],curr[0][1]))  \n",
    "unocinco.append(curr[0][1])\n",
    "print(\"Worst Solution Xs: {}, F: {}\".format(curr[-1][0][:n],curr[-1][1]))  \n",
    "unocinco.append(curr[-1][1])\n",
    "print(\"Median Solution Xs: {}, F: {}\".format(curr[M//2][0][:n],curr[M//2][1])) \n",
    "unocinco.append(curr[M//2][1])\n",
    "print(\"Function Mean: {}\".format(Mean))\n",
    "unocinco.append(Mean)\n",
    "print(\"Standard Deviation: {}\".format(std(curr,Mean)))\n",
    "unocinco.append(std(curr,Mean))"
   ]
  },
  {
   "cell_type": "code",
   "execution_count": 925,
   "metadata": {},
   "outputs": [
    {
     "data": {
      "text/plain": [
       "[15.20733463193882,\n",
       " 21.345069872537223,\n",
       " 20.54687098384039,\n",
       " 20.076922485698578,\n",
       " 1.6853977325675844]"
      ]
     },
     "execution_count": 925,
     "metadata": {},
     "output_type": "execute_result"
    }
   ],
   "source": [
    "unocinco"
   ]
  },
  {
   "cell_type": "code",
   "execution_count": 1151,
   "metadata": {},
   "outputs": [
    {
     "name": "stdout",
     "output_type": "stream",
     "text": [
      "Best Solution Xs: [ 7.19169972  4.45130155 12.20228444 10.43476226  3.07914492 13.53894987\n",
      " -5.48570096], F: 18.278755348745978\n",
      "Worst Solution Xs: [-27.13031363  -9.44880211 -29.16820324  28.99102862 -10.45375474\n",
      "   5.40494344  -3.36490574], F: 21.367229787682966\n",
      "Median Solution Xs: [-2.81425647 28.97020012 26.91426322 10.24906717 -8.83218219 28.02891135\n",
      " -9.47385993], F: 20.826833159025156\n",
      "Function Mean: 20.560306820762534\n",
      "Standard Deviation: 0.8500729941761439\n"
     ]
    }
   ],
   "source": [
    "n = 7\n",
    "c = 0.85\n",
    "gen = 500\n",
    "k = 50\n",
    "M = 10\n",
    "\n",
    "def std(solutions,mean):\n",
    "    m = mean\n",
    "    all_ = 0\n",
    "    for i in range(len(solutions)):\n",
    "        all_ = all_ + (solutions[i][1] - m)**2\n",
    "    return np.sqrt(all_/len(solutions))\n",
    "\n",
    "\n",
    "\n",
    "unosiete = []\n",
    "Mean = 0\n",
    "curr = []\n",
    "for i in range(M):\n",
    "    a = EE1plus1(n,c,gen,k)\n",
    "    Mean +=a [1]\n",
    "    curr.append(a)\n",
    "Mean = Mean/M    \n",
    "curr = sorted(curr, key = lambda x:x[-1])\n",
    "print(\"Best Solution Xs: {}, F: {}\".format(curr[0][0][:n],curr[0][1]))  \n",
    "unosiete.append(curr[0][1])\n",
    "print(\"Worst Solution Xs: {}, F: {}\".format(curr[-1][0][:n],curr[-1][1]))  \n",
    "unosiete.append(curr[-1][1])\n",
    "print(\"Median Solution Xs: {}, F: {}\".format(curr[M//2][0][:n],curr[M//2][1])) \n",
    "unosiete.append(curr[M//2][1])\n",
    "print(\"Function Mean: {}\".format(Mean))\n",
    "unosiete.append(Mean)\n",
    "print(\"Standard Deviation: {}\".format(std(curr,Mean)))\n",
    "unosiete.append(std(curr,Mean))"
   ]
  },
  {
   "cell_type": "code",
   "execution_count": 1152,
   "metadata": {},
   "outputs": [
    {
     "data": {
      "text/plain": [
       "[18.278755348745978,\n",
       " 21.367229787682966,\n",
       " 20.826833159025156,\n",
       " 20.560306820762534,\n",
       " 0.8500729941761439]"
      ]
     },
     "execution_count": 1152,
     "metadata": {},
     "output_type": "execute_result"
    }
   ],
   "source": [
    "unosiete"
   ]
  },
  {
   "cell_type": "code",
   "execution_count": 1165,
   "metadata": {},
   "outputs": [
    {
     "name": "stdout",
     "output_type": "stream",
     "text": [
      "Best Solution Xs: [ -3.40489285  -0.58275392   3.15114935   8.73057624   5.45097064\n",
      "  13.42701375   6.03181385 -13.04597723  12.93526104   9.59464593], F: 18.30117754858756\n",
      "Worst Solution Xs: [-18.50413232  28.14809272   5.6941026  -27.32384886 -13.65546594\n",
      "  16.65294338 -22.87836173  27.13276624 -22.6781574    6.80490308], F: 21.4839828929659\n",
      "Median Solution Xs: [-29.11902504  -6.02267578  21.6102596   15.01258657 -16.03957254\n",
      "  27.24917326 -20.20815149  13.5856942    8.30959652  18.12588549], F: 20.95535530636813\n",
      "Function Mean: 20.6962527147001\n",
      "Standard Deviation: 0.84650411371463\n"
     ]
    }
   ],
   "source": [
    "n = 10\n",
    "c = 0.85\n",
    "gen = 500\n",
    "k = 50\n",
    "M = 10\n",
    "\n",
    "def std(solutions,mean):\n",
    "    m = mean\n",
    "    all_ = 0\n",
    "    for i in range(len(solutions)):\n",
    "        all_ = all_ + (solutions[i][1] - m)**2\n",
    "    return np.sqrt(all_/len(solutions))\n",
    "\n",
    "\n",
    "\n",
    "unodiez = []\n",
    "Mean = 0\n",
    "curr = []\n",
    "for i in range(M):\n",
    "    a = EE1plus1(n,c,gen,k)\n",
    "    Mean +=a [1]\n",
    "    curr.append(a)\n",
    "Mean = Mean/M    \n",
    "curr = sorted(curr, key = lambda x:x[-1])\n",
    "print(\"Best Solution Xs: {}, F: {}\".format(curr[0][0][:n],curr[0][1]))  \n",
    "unodiez.append(curr[0][1])\n",
    "print(\"Worst Solution Xs: {}, F: {}\".format(curr[-1][0][:n],curr[-1][1]))  \n",
    "unodiez.append(curr[-1][1])\n",
    "print(\"Median Solution Xs: {}, F: {}\".format(curr[M//2][0][:n],curr[M//2][1])) \n",
    "unodiez.append(curr[M//2][1])\n",
    "print(\"Function Mean: {}\".format(Mean))\n",
    "unodiez.append(Mean)\n",
    "print(\"Standard Deviation: {}\".format(std(curr,Mean)))\n",
    "unodiez.append(std(curr,Mean))"
   ]
  },
  {
   "cell_type": "code",
   "execution_count": 1166,
   "metadata": {},
   "outputs": [
    {
     "data": {
      "text/plain": [
       "[18.30117754858756,\n",
       " 21.4839828929659,\n",
       " 20.95535530636813,\n",
       " 20.6962527147001,\n",
       " 0.84650411371463]"
      ]
     },
     "execution_count": 1166,
     "metadata": {},
     "output_type": "execute_result"
    }
   ],
   "source": [
    "unodiez"
   ]
  },
  {
   "cell_type": "code",
   "execution_count": null,
   "metadata": {},
   "outputs": [],
   "source": [
    "##############################################################################################################"
   ]
  },
  {
   "cell_type": "code",
   "execution_count": 1180,
   "metadata": {},
   "outputs": [
    {
     "name": "stdout",
     "output_type": "stream",
     "text": [
      "Best Solution Xs: [2.01901708e-04 8.98092654e-05], F: 0.0006263122879492933\n",
      "Worst Solution Xs: [ 0.00078206 -0.00066767], F: 0.002936633348110451\n",
      "Median Solution Xs: [ 7.09877490e-04 -8.33719217e-05], F: 0.0020352405826931097\n",
      "Function Mean: 0.0019234638764079825\n",
      "Standard Deviation: 0.0007209989805390401\n"
     ]
    }
   ],
   "source": [
    "n = 2\n",
    "c = 0.85\n",
    "gen = 500\n",
    "k = 50\n",
    "M = 10\n",
    "\n",
    "def std(solutions,mean):\n",
    "    m = mean\n",
    "    all_ = 0\n",
    "    for i in range(len(solutions)):\n",
    "        all_ = all_ + (solutions[i][1] - m)**2\n",
    "    return np.sqrt(all_/len(solutions))\n",
    "\n",
    "\n",
    "\n",
    "alphalambdados = []\n",
    "Mean = 0\n",
    "curr = []\n",
    "for i in range(M):\n",
    "    a = alphalambdaEE(2,100,0.01,None,100,700)\n",
    "    Mean +=a [1]\n",
    "    curr.append(a)\n",
    "Mean = Mean/M    \n",
    "curr = sorted(curr, key = lambda x:x[-1])\n",
    "print(\"Best Solution Xs: {}, F: {}\".format(curr[0][0][:n],curr[0][1]))  \n",
    "alphalambdados.append(curr[0][1])\n",
    "print(\"Worst Solution Xs: {}, F: {}\".format(curr[-1][0][:n],curr[-1][1]))  \n",
    "alphalambdados.append(curr[-1][1])\n",
    "print(\"Median Solution Xs: {}, F: {}\".format(curr[M//2][0][:n],curr[M//2][1])) \n",
    "alphalambdados.append(curr[M//2][1])\n",
    "print(\"Function Mean: {}\".format(Mean))\n",
    "alphalambdados.append(Mean)\n",
    "print(\"Standard Deviation: {}\".format(std(curr,Mean)))\n",
    "alphalambdados.append(std(curr,Mean))"
   ]
  },
  {
   "cell_type": "code",
   "execution_count": 1181,
   "metadata": {},
   "outputs": [
    {
     "data": {
      "text/plain": [
       "[0.0006263122879492933,\n",
       " 0.002936633348110451,\n",
       " 0.0020352405826931097,\n",
       " 0.0019234638764079825,\n",
       " 0.0007209989805390401]"
      ]
     },
     "execution_count": 1181,
     "metadata": {},
     "output_type": "execute_result"
    }
   ],
   "source": [
    "alphalambdados"
   ]
  },
  {
   "cell_type": "code",
   "execution_count": 1182,
   "metadata": {},
   "outputs": [
    {
     "name": "stdout",
     "output_type": "stream",
     "text": [
      "Best Solution Xs: [ 0.00077959 -0.0025081   0.00124291  0.00091036 -0.00267748], F: 0.007428423482086277\n",
      "Worst Solution Xs: [ 0.0038089   0.0012915  -0.0023443  -0.00566179 -0.00396105], F: 0.015643421112074396\n",
      "Median Solution Xs: [ 0.0050268  -0.00052547 -0.00196025  0.00062379  0.0016211 ], F: 0.010528144550388863\n",
      "Function Mean: 0.011511647221128473\n",
      "Standard Deviation: 0.00253589252669148\n"
     ]
    }
   ],
   "source": [
    "n = 5\n",
    "c = 0.85\n",
    "gen = 500\n",
    "k = 50\n",
    "M = 10\n",
    "\n",
    "def std(solutions,mean):\n",
    "    m = mean\n",
    "    all_ = 0\n",
    "    for i in range(len(solutions)):\n",
    "        all_ = all_ + (solutions[i][1] - m)**2\n",
    "    return np.sqrt(all_/len(solutions))\n",
    "\n",
    "\n",
    "\n",
    "alphalambdacinco = []\n",
    "Mean = 0\n",
    "curr = []\n",
    "for i in range(M):\n",
    "    a = alphalambdaEE(5,100,0.01,None,100,700)\n",
    "    Mean +=a [1]\n",
    "    curr.append(a)\n",
    "Mean = Mean/M    \n",
    "curr = sorted(curr, key = lambda x:x[-1])\n",
    "print(\"Best Solution Xs: {}, F: {}\".format(curr[0][0][:n],curr[0][1]))  \n",
    "alphalambdacinco.append(curr[0][1])\n",
    "print(\"Worst Solution Xs: {}, F: {}\".format(curr[-1][0][:n],curr[-1][1]))  \n",
    "alphalambdacinco.append(curr[-1][1])\n",
    "print(\"Median Solution Xs: {}, F: {}\".format(curr[M//2][0][:n],curr[M//2][1])) \n",
    "alphalambdacinco.append(curr[M//2][1])\n",
    "print(\"Function Mean: {}\".format(Mean))\n",
    "alphalambdacinco.append(Mean)\n",
    "print(\"Standard Deviation: {}\".format(std(curr,Mean)))\n",
    "alphalambdacinco.append(std(curr,Mean))"
   ]
  },
  {
   "cell_type": "code",
   "execution_count": 1183,
   "metadata": {},
   "outputs": [
    {
     "data": {
      "text/plain": [
       "[0.007428423482086277,\n",
       " 0.015643421112074396,\n",
       " 0.010528144550388863,\n",
       " 0.011511647221128473,\n",
       " 0.00253589252669148]"
      ]
     },
     "execution_count": 1183,
     "metadata": {},
     "output_type": "execute_result"
    }
   ],
   "source": [
    "alphalambdacinco"
   ]
  },
  {
   "cell_type": "code",
   "execution_count": 1184,
   "metadata": {},
   "outputs": [
    {
     "name": "stdout",
     "output_type": "stream",
     "text": [
      "Best Solution Xs: [ 0.00283299  0.00110029  0.00325532 -0.0028261  -0.00313193  0.00141803\n",
      "  0.00595972], F: 0.013678610975038641\n",
      "Worst Solution Xs: [ 0.00581022 -0.00919243  0.00044277  0.00303151  0.00772976  0.00555259\n",
      " -0.00107026], F: 0.02406058150672097\n",
      "Median Solution Xs: [-4.72913467e-05 -4.06635721e-03 -6.98303754e-03  3.18530434e-03\n",
      " -1.57263689e-03 -8.72986933e-04  8.64716044e-03], F: 0.019895485056203643\n",
      "Function Mean: 0.019121812594245658\n",
      "Standard Deviation: 0.0031223752924156743\n"
     ]
    }
   ],
   "source": [
    "n = 7\n",
    "c = 0.85\n",
    "gen = 500\n",
    "k = 50\n",
    "M = 10\n",
    "\n",
    "def std(solutions,mean):\n",
    "    m = mean\n",
    "    all_ = 0\n",
    "    for i in range(len(solutions)):\n",
    "        all_ = all_ + (solutions[i][1] - m)**2\n",
    "    return np.sqrt(all_/len(solutions))\n",
    "\n",
    "\n",
    "\n",
    "alphalambdasiete = []\n",
    "Mean = 0\n",
    "curr = []\n",
    "for i in range(M):\n",
    "    a = alphalambdaEE(7,100,0.01,None,100,700)\n",
    "    Mean +=a [1]\n",
    "    curr.append(a)\n",
    "Mean = Mean/M    \n",
    "curr = sorted(curr, key = lambda x:x[-1])\n",
    "print(\"Best Solution Xs: {}, F: {}\".format(curr[0][0][:n],curr[0][1]))  \n",
    "alphalambdasiete.append(curr[0][1])\n",
    "print(\"Worst Solution Xs: {}, F: {}\".format(curr[-1][0][:n],curr[-1][1]))  \n",
    "alphalambdasiete.append(curr[-1][1])\n",
    "print(\"Median Solution Xs: {}, F: {}\".format(curr[M//2][0][:n],curr[M//2][1])) \n",
    "alphalambdasiete.append(curr[M//2][1])\n",
    "print(\"Function Mean: {}\".format(Mean))\n",
    "alphalambdasiete.append(Mean)\n",
    "print(\"Standard Deviation: {}\".format(std(curr,Mean)))\n",
    "alphalambdasiete.append(std(curr,Mean))"
   ]
  },
  {
   "cell_type": "code",
   "execution_count": 1185,
   "metadata": {},
   "outputs": [
    {
     "data": {
      "text/plain": [
       "[0.013678610975038641,\n",
       " 0.02406058150672097,\n",
       " 0.019895485056203643,\n",
       " 0.019121812594245658,\n",
       " 0.0031223752924156743]"
      ]
     },
     "execution_count": 1185,
     "metadata": {},
     "output_type": "execute_result"
    }
   ],
   "source": [
    "alphalambdasiete"
   ]
  },
  {
   "cell_type": "code",
   "execution_count": 1186,
   "metadata": {},
   "outputs": [
    {
     "name": "stdout",
     "output_type": "stream",
     "text": [
      "Best Solution Xs: [ 0.00463743 -0.00610294  0.00809671 -0.00522056  0.00296769  0.00110157\n",
      "  0.00660181  0.00256572  0.00396418  0.00194773], F: 0.020466897253041072\n",
      "Worst Solution Xs: [ 0.0101208  -0.00654399  0.00144948 -0.01151942 -0.00562638 -0.00066189\n",
      " -0.00227421 -0.00563621 -0.00465095  0.0078842 ], F: 0.028621118670134837\n",
      "Median Solution Xs: [ 0.00240781  0.00725801  0.00065226  0.00960878  0.00579356 -0.0070882\n",
      " -0.00054331 -0.00528738  0.00416659 -0.00632101], F: 0.02435540383244872\n",
      "Function Mean: 0.024110500203609407\n",
      "Standard Deviation: 0.0024743661779929042\n"
     ]
    }
   ],
   "source": [
    "n = 10\n",
    "c = 0.85\n",
    "gen = 500\n",
    "k = 50\n",
    "M = 10\n",
    "\n",
    "def std(solutions,mean):\n",
    "    m = mean\n",
    "    all_ = 0\n",
    "    for i in range(len(solutions)):\n",
    "        all_ = all_ + (solutions[i][1] - m)**2\n",
    "    return np.sqrt(all_/len(solutions))\n",
    "\n",
    "\n",
    "\n",
    "alphalambdadiez = []\n",
    "Mean = 0\n",
    "curr = []\n",
    "for i in range(M):\n",
    "    a = alphalambdaEE(10,100,0.01,None,100,700)\n",
    "    Mean +=a [1]\n",
    "    curr.append(a)\n",
    "Mean = Mean/M    \n",
    "curr = sorted(curr, key = lambda x:x[-1])\n",
    "print(\"Best Solution Xs: {}, F: {}\".format(curr[0][0][:n],curr[0][1]))  \n",
    "alphalambdadiez.append(curr[0][1])\n",
    "print(\"Worst Solution Xs: {}, F: {}\".format(curr[-1][0][:n],curr[-1][1]))  \n",
    "alphalambdadiez.append(curr[-1][1])\n",
    "print(\"Median Solution Xs: {}, F: {}\".format(curr[M//2][0][:n],curr[M//2][1])) \n",
    "alphalambdadiez.append(curr[M//2][1])\n",
    "print(\"Function Mean: {}\".format(Mean))\n",
    "alphalambdadiez.append(Mean)\n",
    "print(\"Standard Deviation: {}\".format(std(curr,Mean)))\n",
    "alphalambdadiez.append(std(curr,Mean))"
   ]
  },
  {
   "cell_type": "code",
   "execution_count": 1187,
   "metadata": {},
   "outputs": [
    {
     "data": {
      "text/plain": [
       "[0.020466897253041072,\n",
       " 0.028621118670134837,\n",
       " 0.02435540383244872,\n",
       " 0.024110500203609407,\n",
       " 0.0024743661779929042]"
      ]
     },
     "execution_count": 1187,
     "metadata": {},
     "output_type": "execute_result"
    }
   ],
   "source": [
    "alphalambdadiez"
   ]
  },
  {
   "cell_type": "code",
   "execution_count": null,
   "metadata": {},
   "outputs": [],
   "source": [
    "##############################################################################################################"
   ]
  },
  {
   "cell_type": "code",
   "execution_count": 1197,
   "metadata": {},
   "outputs": [
    {
     "name": "stdout",
     "output_type": "stream",
     "text": [
      "Best Solution Xs: [-1.68649583e-04  7.87251337e-05], F: 0.0005273467945952071\n",
      "Worst Solution Xs: [-0.00080874 -0.00113224], F: 0.003987061256318203\n",
      "Median Solution Xs: [ 0.00019154 -0.00061139], F: 0.0018230851429845707\n",
      "Function Mean: 0.0017884066146945266\n",
      "Standard Deviation: 0.0009461435287646282\n"
     ]
    }
   ],
   "source": [
    "n = 2\n",
    "c = 0.85\n",
    "gen = 500\n",
    "k = 50\n",
    "M = 10\n",
    "\n",
    "def std(solutions,mean):\n",
    "    m = mean\n",
    "    all_ = 0\n",
    "    for i in range(len(solutions)):\n",
    "        all_ = all_ + (solutions[i][1] - m)**2\n",
    "    return np.sqrt(all_/len(solutions))\n",
    "\n",
    "\n",
    "\n",
    "alphalambmtwo = []\n",
    "Mean = 0\n",
    "curr = []\n",
    "for i in range(M):\n",
    "    a = alphalambdaEETuned(2,100,0.01,None,100,700)\n",
    "    Mean +=a [1]\n",
    "    curr.append(a)\n",
    "Mean = Mean/M    \n",
    "curr = sorted(curr, key = lambda x:x[-1])\n",
    "print(\"Best Solution Xs: {}, F: {}\".format(curr[0][0][:n],curr[0][1]))  \n",
    "alphalambmtwo.append(curr[0][1])\n",
    "print(\"Worst Solution Xs: {}, F: {}\".format(curr[-1][0][:n],curr[-1][1]))  \n",
    "alphalambmtwo.append(curr[-1][1])\n",
    "print(\"Median Solution Xs: {}, F: {}\".format(curr[M//2][0][:n],curr[M//2][1])) \n",
    "alphalambmtwo.append(curr[M//2][1])\n",
    "print(\"Function Mean: {}\".format(Mean))\n",
    "alphalambmtwo.append(Mean)\n",
    "print(\"Standard Deviation: {}\".format(std(curr,Mean)))\n",
    "alphalambmtwo.append(std(curr,Mean))"
   ]
  },
  {
   "cell_type": "code",
   "execution_count": 1198,
   "metadata": {},
   "outputs": [
    {
     "data": {
      "text/plain": [
       "[0.0005273467945952071,\n",
       " 0.003987061256318203,\n",
       " 0.0018230851429845707,\n",
       " 0.0017884066146945266,\n",
       " 0.0009461435287646282]"
      ]
     },
     "execution_count": 1198,
     "metadata": {},
     "output_type": "execute_result"
    }
   ],
   "source": [
    "alphalambmtwo"
   ]
  },
  {
   "cell_type": "code",
   "execution_count": 1199,
   "metadata": {},
   "outputs": [
    {
     "name": "stdout",
     "output_type": "stream",
     "text": [
      "Best Solution Xs: [ 8.92819544e-04 -1.85148653e-03 -5.97224649e-05  2.43526011e-03\n",
      "  9.29891844e-05], F: 0.005812424874907851\n",
      "Worst Solution Xs: [ 0.00338033 -0.00341339  0.00451801 -0.00159431  0.00316029], F: 0.013985485967431988\n",
      "Median Solution Xs: [ 0.00266565 -0.00029923  0.00036866 -0.00436527  0.00308637], F: 0.011102527547614205\n",
      "Function Mean: 0.01036347765135064\n",
      "Standard Deviation: 0.0024030882306873705\n"
     ]
    }
   ],
   "source": [
    "n = 5\n",
    "c = 0.85\n",
    "gen = 500\n",
    "k = 50\n",
    "M = 10\n",
    "\n",
    "def std(solutions,mean):\n",
    "    m = mean\n",
    "    all_ = 0\n",
    "    for i in range(len(solutions)):\n",
    "        all_ = all_ + (solutions[i][1] - m)**2\n",
    "    return np.sqrt(all_/len(solutions))\n",
    "\n",
    "\n",
    "\n",
    "alphalambmfive = []\n",
    "Mean = 0\n",
    "curr = []\n",
    "for i in range(M):\n",
    "    a = alphalambdaEETuned(5,100,0.01,None,100,700)\n",
    "    Mean +=a [1]\n",
    "    curr.append(a)\n",
    "Mean = Mean/M    \n",
    "curr = sorted(curr, key = lambda x:x[-1])\n",
    "print(\"Best Solution Xs: {}, F: {}\".format(curr[0][0][:n],curr[0][1]))  \n",
    "alphalambmfive.append(curr[0][1])\n",
    "print(\"Worst Solution Xs: {}, F: {}\".format(curr[-1][0][:n],curr[-1][1]))  \n",
    "alphalambmfive.append(curr[-1][1])\n",
    "print(\"Median Solution Xs: {}, F: {}\".format(curr[M//2][0][:n],curr[M//2][1])) \n",
    "alphalambmfive.append(curr[M//2][1])\n",
    "print(\"Function Mean: {}\".format(Mean))\n",
    "alphalambmfive.append(Mean)\n",
    "print(\"Standard Deviation: {}\".format(std(curr,Mean)))\n",
    "alphalambmfive.append(std(curr,Mean))"
   ]
  },
  {
   "cell_type": "code",
   "execution_count": 1200,
   "metadata": {},
   "outputs": [
    {
     "data": {
      "text/plain": [
       "[0.005812424874907851,\n",
       " 0.013985485967431988,\n",
       " 0.011102527547614205,\n",
       " 0.01036347765135064,\n",
       " 0.0024030882306873705]"
      ]
     },
     "execution_count": 1200,
     "metadata": {},
     "output_type": "execute_result"
    }
   ],
   "source": [
    "alphalambmfive"
   ]
  },
  {
   "cell_type": "code",
   "execution_count": 1201,
   "metadata": {},
   "outputs": [
    {
     "name": "stdout",
     "output_type": "stream",
     "text": [
      "Best Solution Xs: [ 0.00442874 -0.00122983 -0.0026779   0.00264733 -0.00434167  0.00343775\n",
      " -0.0016411 ], F: 0.01305045849608577\n",
      "Worst Solution Xs: [-0.00718991 -0.00083908 -0.00202042 -0.00590862  0.00518339  0.00592988\n",
      " -0.00387133], F: 0.020900707100811378\n",
      "Median Solution Xs: [-3.85760440e-03  1.10570592e-05 -5.23200610e-03 -5.61474926e-03\n",
      "  6.42624435e-03 -2.33321368e-03  2.33702920e-03], F: 0.01792762667343739\n",
      "Function Mean: 0.017229517607150503\n",
      "Standard Deviation: 0.0023613798089368275\n"
     ]
    }
   ],
   "source": [
    "n = 7\n",
    "c = 0.85\n",
    "gen = 500\n",
    "k = 50\n",
    "M = 10\n",
    "\n",
    "def std(solutions,mean):\n",
    "    m = mean\n",
    "    all_ = 0\n",
    "    for i in range(len(solutions)):\n",
    "        all_ = all_ + (solutions[i][1] - m)**2\n",
    "    return np.sqrt(all_/len(solutions))\n",
    "\n",
    "\n",
    "\n",
    "alphalambmseven = []\n",
    "Mean = 0\n",
    "curr = []\n",
    "for i in range(M):\n",
    "    a = alphalambdaEETuned(7,100,0.01,None,100,700)\n",
    "    Mean +=a [1]\n",
    "    curr.append(a)\n",
    "Mean = Mean/M    \n",
    "curr = sorted(curr, key = lambda x:x[-1])\n",
    "print(\"Best Solution Xs: {}, F: {}\".format(curr[0][0][:n],curr[0][1]))  \n",
    "alphalambmseven.append(curr[0][1])\n",
    "print(\"Worst Solution Xs: {}, F: {}\".format(curr[-1][0][:n],curr[-1][1]))  \n",
    "alphalambmseven.append(curr[-1][1])\n",
    "print(\"Median Solution Xs: {}, F: {}\".format(curr[M//2][0][:n],curr[M//2][1])) \n",
    "alphalambmseven.append(curr[M//2][1])\n",
    "print(\"Function Mean: {}\".format(Mean))\n",
    "alphalambmseven.append(Mean)\n",
    "print(\"Standard Deviation: {}\".format(std(curr,Mean)))\n",
    "alphalambmseven.append(std(curr,Mean))"
   ]
  },
  {
   "cell_type": "code",
   "execution_count": 1202,
   "metadata": {},
   "outputs": [
    {
     "data": {
      "text/plain": [
       "[0.01305045849608577,\n",
       " 0.020900707100811378,\n",
       " 0.01792762667343739,\n",
       " 0.017229517607150503,\n",
       " 0.0023613798089368275]"
      ]
     },
     "execution_count": 1202,
     "metadata": {},
     "output_type": "execute_result"
    }
   ],
   "source": [
    "alphalambmseven"
   ]
  },
  {
   "cell_type": "code",
   "execution_count": 1203,
   "metadata": {},
   "outputs": [
    {
     "name": "stdout",
     "output_type": "stream",
     "text": [
      "Best Solution Xs: [ 0.00011053 -0.00271476 -0.00040693 -0.00166183 -0.00681188 -0.00535294\n",
      "  0.00314049  0.00395909  0.00022338  0.00258745], F: 0.014346300951225022\n",
      "Worst Solution Xs: [ 0.00082419 -0.0071032   0.01139108  0.01105903  0.0005981   0.00349007\n",
      " -0.00181924  0.00244045 -0.00130641  0.00562025], F: 0.025849816355752342\n",
      "Median Solution Xs: [-3.22010733e-05 -1.09325864e-02  5.95704601e-03 -4.04471987e-03\n",
      "  7.15106224e-03 -2.83871515e-04 -1.15696198e-03  1.58833502e-03\n",
      " -1.31158139e-03  7.95721665e-03], F: 0.023147287489685642\n",
      "Function Mean: 0.0221344758016472\n",
      "Standard Deviation: 0.0030594706048114482\n"
     ]
    }
   ],
   "source": [
    "n = 10\n",
    "c = 0.85\n",
    "gen = 500\n",
    "k = 50\n",
    "M = 10\n",
    "\n",
    "def std(solutions,mean):\n",
    "    m = mean\n",
    "    all_ = 0\n",
    "    for i in range(len(solutions)):\n",
    "        all_ = all_ + (solutions[i][1] - m)**2\n",
    "    return np.sqrt(all_/len(solutions))\n",
    "\n",
    "\n",
    "\n",
    "alphalambmten = []\n",
    "Mean = 0\n",
    "curr = []\n",
    "for i in range(M):\n",
    "    a = alphalambdaEETuned(10,100,0.01,None,100,700)\n",
    "    Mean +=a [1]\n",
    "    curr.append(a)\n",
    "Mean = Mean/M    \n",
    "curr = sorted(curr, key = lambda x:x[-1])\n",
    "print(\"Best Solution Xs: {}, F: {}\".format(curr[0][0][:n],curr[0][1]))  \n",
    "alphalambmten.append(curr[0][1])\n",
    "print(\"Worst Solution Xs: {}, F: {}\".format(curr[-1][0][:n],curr[-1][1]))  \n",
    "alphalambmten.append(curr[-1][1])\n",
    "print(\"Median Solution Xs: {}, F: {}\".format(curr[M//2][0][:n],curr[M//2][1])) \n",
    "alphalambmten.append(curr[M//2][1])\n",
    "print(\"Function Mean: {}\".format(Mean))\n",
    "alphalambmten.append(Mean)\n",
    "print(\"Standard Deviation: {}\".format(std(curr,Mean)))\n",
    "alphalambmten.append(std(curr,Mean))"
   ]
  },
  {
   "cell_type": "code",
   "execution_count": 1204,
   "metadata": {},
   "outputs": [
    {
     "data": {
      "text/plain": [
       "[0.014346300951225022,\n",
       " 0.025849816355752342,\n",
       " 0.023147287489685642,\n",
       " 0.0221344758016472,\n",
       " 0.0030594706048114482]"
      ]
     },
     "execution_count": 1204,
     "metadata": {},
     "output_type": "execute_result"
    }
   ],
   "source": [
    "alphalambmten"
   ]
  },
  {
   "cell_type": "markdown",
   "metadata": {},
   "source": [
    "## 2 variables\n",
    "## 2 variables"
   ]
  },
  {
   "cell_type": "code",
   "execution_count": 1212,
   "metadata": {},
   "outputs": [
    {
     "data": {
      "text/html": [
       "<div>\n",
       "<style scoped>\n",
       "    .dataframe tbody tr th:only-of-type {\n",
       "        vertical-align: middle;\n",
       "    }\n",
       "\n",
       "    .dataframe tbody tr th {\n",
       "        vertical-align: top;\n",
       "    }\n",
       "\n",
       "    .dataframe thead th {\n",
       "        text-align: right;\n",
       "    }\n",
       "</style>\n",
       "<table border=\"1\" class=\"dataframe\">\n",
       "  <thead>\n",
       "    <tr style=\"text-align: right;\">\n",
       "      <th></th>\n",
       "      <th>EE</th>\n",
       "      <th>Best solution</th>\n",
       "      <th>Worst solution</th>\n",
       "      <th>Median Solution</th>\n",
       "      <th>Function Mean</th>\n",
       "      <th>Standard Deviation</th>\n",
       "    </tr>\n",
       "  </thead>\n",
       "  <tbody>\n",
       "    <tr>\n",
       "      <th>0</th>\n",
       "      <td>(1+1) - EE</td>\n",
       "      <td>5.318235</td>\n",
       "      <td>21.919076</td>\n",
       "      <td>20.207188</td>\n",
       "      <td>18.468392</td>\n",
       "      <td>4.683512</td>\n",
       "    </tr>\n",
       "    <tr>\n",
       "      <th>1</th>\n",
       "      <td>(μ,λ) - EE</td>\n",
       "      <td>0.000626</td>\n",
       "      <td>0.002937</td>\n",
       "      <td>0.002035</td>\n",
       "      <td>0.001923</td>\n",
       "      <td>0.000721</td>\n",
       "    </tr>\n",
       "    <tr>\n",
       "      <th>2</th>\n",
       "      <td>(μ,λ) - EE*T</td>\n",
       "      <td>0.000527</td>\n",
       "      <td>0.003987</td>\n",
       "      <td>0.001823</td>\n",
       "      <td>0.001788</td>\n",
       "      <td>0.000946</td>\n",
       "    </tr>\n",
       "  </tbody>\n",
       "</table>\n",
       "</div>"
      ],
      "text/plain": [
       "             EE  Best solution  Worst solution  Median Solution  \\\n",
       "0    (1+1) - EE       5.318235       21.919076        20.207188   \n",
       "1    (μ,λ) - EE       0.000626        0.002937         0.002035   \n",
       "2  (μ,λ) - EE*T       0.000527        0.003987         0.001823   \n",
       "\n",
       "   Function Mean  Standard Deviation  \n",
       "0      18.468392            4.683512  \n",
       "1       0.001923            0.000721  \n",
       "2       0.001788            0.000946  "
      ]
     },
     "execution_count": 1212,
     "metadata": {},
     "output_type": "execute_result"
    }
   ],
   "source": [
    "data2 = [unodos,alphalambdados,alphalambmtwo]\n",
    "df = pd.DataFrame(data2,columns = ['Best solution','Worst solution','Median Solution','Function Mean','Standard Deviation'])\n",
    "EE = ['(1+1) - EE','(μ,λ) - EE','(μ,λ) - EE*T']\n",
    "df.insert(0, 'EE', EE)\n",
    "df"
   ]
  },
  {
   "cell_type": "markdown",
   "metadata": {},
   "source": [
    "## 5 variables\n",
    "## 5 variables"
   ]
  },
  {
   "cell_type": "code",
   "execution_count": 1215,
   "metadata": {},
   "outputs": [
    {
     "data": {
      "text/html": [
       "<div>\n",
       "<style scoped>\n",
       "    .dataframe tbody tr th:only-of-type {\n",
       "        vertical-align: middle;\n",
       "    }\n",
       "\n",
       "    .dataframe tbody tr th {\n",
       "        vertical-align: top;\n",
       "    }\n",
       "\n",
       "    .dataframe thead th {\n",
       "        text-align: right;\n",
       "    }\n",
       "</style>\n",
       "<table border=\"1\" class=\"dataframe\">\n",
       "  <thead>\n",
       "    <tr style=\"text-align: right;\">\n",
       "      <th></th>\n",
       "      <th>EE</th>\n",
       "      <th>Best solution</th>\n",
       "      <th>Worst solution</th>\n",
       "      <th>Median Solution</th>\n",
       "      <th>Function Mean</th>\n",
       "      <th>Standard Deviation</th>\n",
       "    </tr>\n",
       "  </thead>\n",
       "  <tbody>\n",
       "    <tr>\n",
       "      <th>0</th>\n",
       "      <td>(1+1) - EE</td>\n",
       "      <td>15.207335</td>\n",
       "      <td>21.345070</td>\n",
       "      <td>20.546871</td>\n",
       "      <td>20.076922</td>\n",
       "      <td>1.685398</td>\n",
       "    </tr>\n",
       "    <tr>\n",
       "      <th>1</th>\n",
       "      <td>(μ,λ) - EE</td>\n",
       "      <td>0.007428</td>\n",
       "      <td>0.015643</td>\n",
       "      <td>0.010528</td>\n",
       "      <td>0.011512</td>\n",
       "      <td>0.002536</td>\n",
       "    </tr>\n",
       "    <tr>\n",
       "      <th>2</th>\n",
       "      <td>(μ,λ) - EE*T</td>\n",
       "      <td>0.005812</td>\n",
       "      <td>0.013985</td>\n",
       "      <td>0.011103</td>\n",
       "      <td>0.010363</td>\n",
       "      <td>0.002403</td>\n",
       "    </tr>\n",
       "  </tbody>\n",
       "</table>\n",
       "</div>"
      ],
      "text/plain": [
       "             EE  Best solution  Worst solution  Median Solution  \\\n",
       "0    (1+1) - EE      15.207335       21.345070        20.546871   \n",
       "1    (μ,λ) - EE       0.007428        0.015643         0.010528   \n",
       "2  (μ,λ) - EE*T       0.005812        0.013985         0.011103   \n",
       "\n",
       "   Function Mean  Standard Deviation  \n",
       "0      20.076922            1.685398  \n",
       "1       0.011512            0.002536  \n",
       "2       0.010363            0.002403  "
      ]
     },
     "execution_count": 1215,
     "metadata": {},
     "output_type": "execute_result"
    }
   ],
   "source": [
    "data5 = [unocinco,alphalambdacinco,alphalambmfive]\n",
    "df5 = pd.DataFrame(data5,columns = ['Best solution','Worst solution','Median Solution','Function Mean','Standard Deviation'])\n",
    "EE = ['(1+1) - EE','(μ,λ) - EE','(μ,λ) - EE*T']\n",
    "df5.insert(0, 'EE', EE)\n",
    "df5"
   ]
  },
  {
   "cell_type": "markdown",
   "metadata": {},
   "source": [
    "## 7 variables\n",
    "## 7 variables"
   ]
  },
  {
   "cell_type": "code",
   "execution_count": 1219,
   "metadata": {},
   "outputs": [
    {
     "data": {
      "text/html": [
       "<div>\n",
       "<style scoped>\n",
       "    .dataframe tbody tr th:only-of-type {\n",
       "        vertical-align: middle;\n",
       "    }\n",
       "\n",
       "    .dataframe tbody tr th {\n",
       "        vertical-align: top;\n",
       "    }\n",
       "\n",
       "    .dataframe thead th {\n",
       "        text-align: right;\n",
       "    }\n",
       "</style>\n",
       "<table border=\"1\" class=\"dataframe\">\n",
       "  <thead>\n",
       "    <tr style=\"text-align: right;\">\n",
       "      <th></th>\n",
       "      <th>EE</th>\n",
       "      <th>Best solution</th>\n",
       "      <th>Worst solution</th>\n",
       "      <th>Median Solution</th>\n",
       "      <th>Function Mean</th>\n",
       "      <th>Standard Deviation</th>\n",
       "    </tr>\n",
       "  </thead>\n",
       "  <tbody>\n",
       "    <tr>\n",
       "      <th>0</th>\n",
       "      <td>(1+1) - EE</td>\n",
       "      <td>18.278755</td>\n",
       "      <td>21.367230</td>\n",
       "      <td>20.826833</td>\n",
       "      <td>20.560307</td>\n",
       "      <td>0.850073</td>\n",
       "    </tr>\n",
       "    <tr>\n",
       "      <th>1</th>\n",
       "      <td>(μ,λ) - EE</td>\n",
       "      <td>0.013679</td>\n",
       "      <td>0.024061</td>\n",
       "      <td>0.019895</td>\n",
       "      <td>0.019122</td>\n",
       "      <td>0.003122</td>\n",
       "    </tr>\n",
       "    <tr>\n",
       "      <th>2</th>\n",
       "      <td>(μ,λ) - EE*T</td>\n",
       "      <td>0.013050</td>\n",
       "      <td>0.020901</td>\n",
       "      <td>0.017928</td>\n",
       "      <td>0.017230</td>\n",
       "      <td>0.002361</td>\n",
       "    </tr>\n",
       "  </tbody>\n",
       "</table>\n",
       "</div>"
      ],
      "text/plain": [
       "             EE  Best solution  Worst solution  Median Solution  \\\n",
       "0    (1+1) - EE      18.278755       21.367230        20.826833   \n",
       "1    (μ,λ) - EE       0.013679        0.024061         0.019895   \n",
       "2  (μ,λ) - EE*T       0.013050        0.020901         0.017928   \n",
       "\n",
       "   Function Mean  Standard Deviation  \n",
       "0      20.560307            0.850073  \n",
       "1       0.019122            0.003122  \n",
       "2       0.017230            0.002361  "
      ]
     },
     "execution_count": 1219,
     "metadata": {},
     "output_type": "execute_result"
    }
   ],
   "source": [
    "data7 = [unosiete,alphalambdasiete,alphalambmseven]\n",
    "df7 = pd.DataFrame(data7,columns = ['Best solution','Worst solution','Median Solution','Function Mean','Standard Deviation'])\n",
    "EE = ['(1+1) - EE','(μ,λ) - EE','(μ,λ) - EE*T']\n",
    "df7.insert(0, 'EE', EE)\n",
    "df7"
   ]
  },
  {
   "cell_type": "markdown",
   "metadata": {},
   "source": [
    "## 10 variables\n",
    "## 10 variables"
   ]
  },
  {
   "cell_type": "code",
   "execution_count": 1224,
   "metadata": {},
   "outputs": [
    {
     "data": {
      "text/html": [
       "<div>\n",
       "<style scoped>\n",
       "    .dataframe tbody tr th:only-of-type {\n",
       "        vertical-align: middle;\n",
       "    }\n",
       "\n",
       "    .dataframe tbody tr th {\n",
       "        vertical-align: top;\n",
       "    }\n",
       "\n",
       "    .dataframe thead th {\n",
       "        text-align: right;\n",
       "    }\n",
       "</style>\n",
       "<table border=\"1\" class=\"dataframe\">\n",
       "  <thead>\n",
       "    <tr style=\"text-align: right;\">\n",
       "      <th></th>\n",
       "      <th>EE</th>\n",
       "      <th>Best solution</th>\n",
       "      <th>Worst solution</th>\n",
       "      <th>Median Solution</th>\n",
       "      <th>Function Mean</th>\n",
       "      <th>Standard Deviation</th>\n",
       "    </tr>\n",
       "  </thead>\n",
       "  <tbody>\n",
       "    <tr>\n",
       "      <th>0</th>\n",
       "      <td>(1+1) - EE</td>\n",
       "      <td>18.301178</td>\n",
       "      <td>21.483983</td>\n",
       "      <td>20.955355</td>\n",
       "      <td>20.696253</td>\n",
       "      <td>0.846504</td>\n",
       "    </tr>\n",
       "    <tr>\n",
       "      <th>1</th>\n",
       "      <td>(μ,λ) - EE</td>\n",
       "      <td>0.020467</td>\n",
       "      <td>0.028621</td>\n",
       "      <td>0.024355</td>\n",
       "      <td>0.024111</td>\n",
       "      <td>0.002474</td>\n",
       "    </tr>\n",
       "    <tr>\n",
       "      <th>2</th>\n",
       "      <td>(μ,λ) - EE*T</td>\n",
       "      <td>0.014346</td>\n",
       "      <td>0.025850</td>\n",
       "      <td>0.023147</td>\n",
       "      <td>0.022134</td>\n",
       "      <td>0.003059</td>\n",
       "    </tr>\n",
       "  </tbody>\n",
       "</table>\n",
       "</div>"
      ],
      "text/plain": [
       "             EE  Best solution  Worst solution  Median Solution  \\\n",
       "0    (1+1) - EE      18.301178       21.483983        20.955355   \n",
       "1    (μ,λ) - EE       0.020467        0.028621         0.024355   \n",
       "2  (μ,λ) - EE*T       0.014346        0.025850         0.023147   \n",
       "\n",
       "   Function Mean  Standard Deviation  \n",
       "0      20.696253            0.846504  \n",
       "1       0.024111            0.002474  \n",
       "2       0.022134            0.003059  "
      ]
     },
     "execution_count": 1224,
     "metadata": {},
     "output_type": "execute_result"
    }
   ],
   "source": [
    "data10 = [unodiez,alphalambdadiez,alphalambmten]\n",
    "df10 = pd.DataFrame(data10,columns = ['Best solution','Worst solution','Median Solution','Function Mean','Standard Deviation'])\n",
    "EE = ['(1+1) - EE','(μ,λ) - EE','(μ,λ) - EE*T']\n",
    "df10.insert(0, 'EE', EE)\n",
    "df10"
   ]
  },
  {
   "cell_type": "markdown",
   "metadata": {},
   "source": [
    "##### My EE was better \n",
    "##### Mi EE fue mejor"
   ]
  }
 ],
 "metadata": {
  "kernelspec": {
   "display_name": "Python 3",
   "language": "python",
   "name": "python3"
  },
  "language_info": {
   "codemirror_mode": {
    "name": "ipython",
    "version": 3
   },
   "file_extension": ".py",
   "mimetype": "text/x-python",
   "name": "python",
   "nbconvert_exporter": "python",
   "pygments_lexer": "ipython3",
   "version": "3.8.5"
  }
 },
 "nbformat": 4,
 "nbformat_minor": 4
}
