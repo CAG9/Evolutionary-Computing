{
 "cells": [
  {
   "cell_type": "markdown",
   "metadata": {},
   "source": [
    "# Evolutionary Programming\n",
    "# Programación Evolutiva"
   ]
  },
  {
   "cell_type": "markdown",
   "metadata": {},
   "source": [
    "# 80 Points\n",
    "# 80 Puntos"
   ]
  },
  {
   "cell_type": "code",
   "execution_count": 4,
   "metadata": {},
   "outputs": [],
   "source": [
    "import numpy as np\n",
    "import math"
   ]
  },
  {
   "cell_type": "code",
   "execution_count": 5,
   "metadata": {},
   "outputs": [],
   "source": [
    "with open('input.txt', 'r') as file:\n",
    "    input_lines = [line.strip() for line in file]\n",
    "    \n",
    "variables = int(input_lines[0])\n",
    "popu = int(input_lines[1].split()[0])\n",
    "gen = int(input_lines[1].split()[1])\n",
    "alpha = float(input_lines[2].split()[0])\n",
    "epsilon = float(input_lines[2].split()[1])"
   ]
  },
  {
   "cell_type": "markdown",
   "metadata": {},
   "source": [
    "## Ackley Function\n",
    "## Función Ackley"
   ]
  },
  {
   "cell_type": "code",
   "execution_count": 228,
   "metadata": {},
   "outputs": [],
   "source": [
    "def f(arrX):\n",
    "    firstpart = 0.0\n",
    "    secondpart = 0.0\n",
    "    for c in arrX:\n",
    "        firstpart += c**2.0\n",
    "        secondpart += math.cos(2.0*math.pi*c)\n",
    "    n = float(len(arrX))\n",
    "    return (-20.0*math.exp(-0.2*math.sqrt(firstpart/n)) - math.exp(secondpart/n) + 20 + math.e)"
   ]
  },
  {
   "cell_type": "markdown",
   "metadata": {},
   "source": [
    "## Initial Population\n",
    "## Población Inicial"
   ]
  },
  {
   "cell_type": "code",
   "execution_count": 230,
   "metadata": {},
   "outputs": [],
   "source": [
    "def getInitialPopulation(popu,variables):\n",
    "    parents = []\n",
    "    for i in range(popu):\n",
    "        A = np.random.uniform(-30,30,variables)\n",
    "        B = np.random.uniform(0,1,variables)\n",
    "        Func = f(A) \n",
    "        #Func = np.array([Func])\n",
    "        p =  np.concatenate((A, B), axis=0)\n",
    "        p = [p,Func]\n",
    "        parents.append(p)\n",
    "    return parents"
   ]
  },
  {
   "cell_type": "markdown",
   "metadata": {},
   "source": [
    "## Mutation\n",
    "## Mutacion"
   ]
  },
  {
   "cell_type": "code",
   "execution_count": 231,
   "metadata": {},
   "outputs": [],
   "source": [
    "def mutation(arr,alpha,epsilon,popu,variables):\n",
    "\n",
    "    \n",
    "    sigma = arr[variables:] *(1+(alpha*(np.random.normal(0,1,variables))))\n",
    "    sigma[sigma < epsilon] = epsilon\n",
    "\n",
    "    xs = arr[:variables] + sigma * np.random.normal(0,1,variables)\n",
    "    xs[xs < -30] = -30\n",
    "    xs[xs > 30] = 30\n",
    "\n",
    "    Func = f(xs)\n",
    "    MutationX =  np.concatenate((xs, sigma), axis=0)\n",
    "    MutationX = [MutationX,Func]\n",
    "    return MutationX "
   ]
  },
  {
   "cell_type": "markdown",
   "metadata": {},
   "source": [
    "I choose to return them to their limits because it was the easiest way<br>\n",
    "Escogi regresarlos a su limite porque era lo mas facil"
   ]
  },
  {
   "cell_type": "markdown",
   "metadata": {},
   "source": [
    "## All in one\n",
    "## Todo en uno"
   ]
  },
  {
   "cell_type": "code",
   "execution_count": 238,
   "metadata": {},
   "outputs": [],
   "source": [
    "def EvolutionaryProgramming(variables,popu,gen,alpha,epsilon):\n",
    "    padres = getInitialPopulation(popu,variables)\n",
    "    t = 1\n",
    "    while t <= gen:\n",
    "        hijos = padres.copy()\n",
    "        for p in padres:\n",
    "            child = mutation(p[0],alpha,epsilon,popu,variables)\n",
    "            hijos.append(child)\n",
    "            \n",
    "        padres = sorted(hijos, key = lambda x:x[-1])\n",
    "        padres = padres[:popu]\n",
    "        t+=1\n",
    "    return padres[-1]"
   ]
  },
  {
   "cell_type": "code",
   "execution_count": 241,
   "metadata": {},
   "outputs": [
    {
     "data": {
      "text/plain": [
       "[array([1.43052130e-05, 8.61463988e-06, 1.46140958e-04, 1.00000000e-04]),\n",
       " 4.723886731072824e-05]"
      ]
     },
     "execution_count": 241,
     "metadata": {},
     "output_type": "execute_result"
    }
   ],
   "source": [
    "EvolutionaryProgramming(variables,popu,gen,alpha,epsilon)"
   ]
  },
  {
   "cell_type": "markdown",
   "metadata": {},
   "source": [
    "# 20 Points\n",
    "# 20 Puntos"
   ]
  },
  {
   "cell_type": "code",
   "execution_count": 275,
   "metadata": {},
   "outputs": [],
   "source": [
    "def f(arrX):\n",
    "    firstpart = 0.0\n",
    "    secondpart = 0.0\n",
    "    for c in arrX:\n",
    "        firstpart += c**2.0\n",
    "        secondpart += math.cos(2.0*math.pi*c)\n",
    "    n = float(len(arrX))\n",
    "    return (-20.0*math.exp(-0.2*math.sqrt(firstpart/n)) - math.exp(secondpart/n) + 20 + math.e)\n",
    "\n",
    "\n",
    "\n",
    "def getInitialPopulation(popu,variables):\n",
    "    parents = []\n",
    "    for i in range(popu):\n",
    "        A = np.random.uniform(-30,30,variables)\n",
    "        B = np.random.uniform(0,1,variables)\n",
    "        Func = f(A) \n",
    "        #Func = np.array([Func])\n",
    "        p =  np.concatenate((A, B), axis=0)\n",
    "        p = [p,Func]\n",
    "        parents.append(p)\n",
    "    return parents\n",
    "\n",
    "\n",
    "def mutation(arr,alpha,epsilon,popu,variables):\n",
    "\n",
    "    \n",
    "    sigma = arr[variables:] *(1+(alpha*(np.random.normal(0,1,variables))))\n",
    "    sigma[sigma < epsilon] = epsilon\n",
    "\n",
    "    xs = arr[:variables] + sigma * np.random.normal(0,1,variables)\n",
    "    xs[xs < -30] = -30\n",
    "    xs[xs > 30] = 30\n",
    "\n",
    "    Func = f(xs)\n",
    "    MutationX =  np.concatenate((xs, sigma), axis=0)\n",
    "    MutationX = [MutationX,Func]\n",
    "    return MutationX \n",
    "\n",
    "def EvolutionaryProgramming(variables,popu,gen,alpha,epsilon):\n",
    "    padres = getInitialPopulation(popu,variables)\n",
    "    t = 1\n",
    "    while t <= gen:\n",
    "        hijos = padres.copy()\n",
    "        for p in padres:\n",
    "            child = mutation(p[0],alpha,epsilon,popu,variables)\n",
    "            hijos.append(child)\n",
    "            \n",
    "        padres = sorted(hijos, key = lambda x:x[-1])\n",
    "        padres = padres[:popu]\n",
    "        t+=1\n",
    "    return padres[-1]\n",
    "\n",
    "def std(solutions,mean):\n",
    "    m = mean\n",
    "    all_ = 0\n",
    "    for i in range(len(solutions)):\n",
    "        all_ = all_ + (solutions[i][1] - m)**2\n",
    "    return np.sqrt(all_/len(solutions))\n",
    "\n",
    "\n",
    "\n",
    "def customEP():\n",
    "    print(\"Txt name\")\n",
    "    txt = input()\n",
    "    print(\"M iterations\")\n",
    "    M = int(input())\n",
    "\n",
    "\n",
    "    with open(txt, 'r') as file:\n",
    "        input_lines = [line.strip() for line in file]\n",
    "\n",
    "    variables = int(input_lines[0])\n",
    "    popu = int(input_lines[1].split()[0])\n",
    "    gen = int(input_lines[1].split()[1])\n",
    "    alpha = float(input_lines[2].split()[0])\n",
    "    epsilon = float(input_lines[2].split()[1])\n",
    "\n",
    "\n",
    "\n",
    "    Mean = 0\n",
    "    curr = []\n",
    "    for i in range(M):\n",
    "        a = EvolutionaryProgramming(variables,popu,gen,alpha,epsilon)\n",
    "        Mean +=a [1]\n",
    "        curr.append(a)\n",
    "    Mean = Mean/M    \n",
    "    curr = sorted(curr, key = lambda x:x[-1])\n",
    "    print(\"Best Solution Xs: {}, F: {}\".format(curr[0][0][:variables],curr[0][1]))  \n",
    "    print(\"Worst Solution Xs: {}, F: {}\".format(curr[-1][0][:variables],curr[-1][1]))  \n",
    "    print(\"Median Solution Xs: {}, F: {}\".format(curr[M//2][0][:variables],curr[M//2][1]))  \n",
    "    print(\"Function Mean: {}\".format(Mean))\n",
    "    print(\"Standard Deviation: {}\".format(std(curr,Mean)))"
   ]
  },
  {
   "cell_type": "markdown",
   "metadata": {},
   "source": [
    "input 2 variables<br>\n",
    "2<br>\n",
    "100 200<br>\n",
    "2.0 0.0001\n"
   ]
  },
  {
   "cell_type": "code",
   "execution_count": 276,
   "metadata": {},
   "outputs": [
    {
     "name": "stdout",
     "output_type": "stream",
     "text": [
      "Txt name\n"
     ]
    },
    {
     "name": "stdin",
     "output_type": "stream",
     "text": [
      " input.txt\n"
     ]
    },
    {
     "name": "stdout",
     "output_type": "stream",
     "text": [
      "M iterations\n"
     ]
    },
    {
     "name": "stdin",
     "output_type": "stream",
     "text": [
      " 100\n"
     ]
    },
    {
     "name": "stdout",
     "output_type": "stream",
     "text": [
      "Best Solution Xs: [8.29203675e-06 1.29547232e-05], F: 4.351103302768777e-05\n",
      "Worst Solution Xs: [-0.968489    0.96846408], F: 3.574451885594567\n",
      "Median Solution Xs: [5.90004407e-06 1.70123703e-05], F: 5.09384885458708e-05\n",
      "Function Mean: 0.24218531246131403\n",
      "Standard Deviation: 0.775625836879831\n"
     ]
    }
   ],
   "source": [
    "customEP()"
   ]
  },
  {
   "cell_type": "markdown",
   "metadata": {},
   "source": [
    "input 5 variables<br>\n",
    "5<br>\n",
    "100 200<br>\n",
    "2.0 0.0001\n"
   ]
  },
  {
   "cell_type": "code",
   "execution_count": 277,
   "metadata": {},
   "outputs": [
    {
     "name": "stdout",
     "output_type": "stream",
     "text": [
      "Txt name\n"
     ]
    },
    {
     "name": "stdin",
     "output_type": "stream",
     "text": [
      " input5.txt\n"
     ]
    },
    {
     "name": "stdout",
     "output_type": "stream",
     "text": [
      "M iterations\n"
     ]
    },
    {
     "name": "stdin",
     "output_type": "stream",
     "text": [
      " 100\n"
     ]
    },
    {
     "name": "stdout",
     "output_type": "stream",
     "text": [
      "Best Solution Xs: [-2.44916426e-05  7.52486220e-05 -1.16582674e-04  9.48247032e-05\n",
      " -7.80706458e-05], F: 0.000334751423381352\n",
      "Worst Solution Xs: [ 4.25475015e-05 -1.99592007e+00 -8.98163514e+00  8.98171151e+00\n",
      " -9.97906472e-01], F: 13.696809824337738\n",
      "Median Solution Xs: [ 1.31727254e-04 -9.45256038e-01 -1.73764110e-05 -9.45383560e-01\n",
      " -1.53405354e-06], F: 2.316849226387682\n",
      "Function Mean: 3.014467071492269\n",
      "Standard Deviation: 3.356238094778037\n"
     ]
    }
   ],
   "source": [
    "customEP()"
   ]
  },
  {
   "cell_type": "markdown",
   "metadata": {},
   "source": [
    "input 10 variables<br>\n",
    "10<br>\n",
    "200 400<br>\n",
    "5.0 0.00001\n"
   ]
  },
  {
   "cell_type": "code",
   "execution_count": 285,
   "metadata": {},
   "outputs": [
    {
     "name": "stdout",
     "output_type": "stream",
     "text": [
      "Txt name\n"
     ]
    },
    {
     "name": "stdin",
     "output_type": "stream",
     "text": [
      " input10.txt\n"
     ]
    },
    {
     "name": "stdout",
     "output_type": "stream",
     "text": [
      "M iterations\n"
     ]
    },
    {
     "name": "stdin",
     "output_type": "stream",
     "text": [
      " 100\n"
     ]
    },
    {
     "name": "stdout",
     "output_type": "stream",
     "text": [
      "Best Solution Xs: [-5.37184983e-05  9.13612170e-06 -3.45743613e-05  1.09912531e-05\n",
      "  4.04712877e-06 -2.41642882e-05  5.65290982e-05  2.17203568e-05\n",
      " -1.89503364e-05  9.10142139e-05], F: 0.00016596211678576722\n",
      "Worst Solution Xs: [-0.0270453  -0.01472383 -0.03522933 -0.0075268   0.45368644 -0.04851422\n",
      " -0.01121663 -0.01647326  0.02478312  0.00857281], F: 1.0815497254686588\n",
      "Median Solution Xs: [ 3.90764941e-04 -3.12619939e-04 -6.90613195e-04  7.29074029e-04\n",
      "  4.99661174e-05  3.50112418e-04 -4.44559891e-04  7.48505252e-04\n",
      "  3.31641608e-04 -1.75936393e-04], F: 0.0019233175155304316\n",
      "Function Mean: 0.01733134803732268\n",
      "Standard Deviation: 0.10774448868968259\n"
     ]
    }
   ],
   "source": [
    "customEP()\n"
   ]
  },
  {
   "cell_type": "markdown",
   "metadata": {},
   "source": [
    "input 20 variables <br>\n",
    "20<br>\n",
    "400 800<br>\n",
    "5.0 0.00001"
   ]
  },
  {
   "cell_type": "code",
   "execution_count": 287,
   "metadata": {},
   "outputs": [
    {
     "name": "stdout",
     "output_type": "stream",
     "text": [
      "Txt name\n"
     ]
    },
    {
     "name": "stdin",
     "output_type": "stream",
     "text": [
      " input20.txt\n"
     ]
    },
    {
     "name": "stdout",
     "output_type": "stream",
     "text": [
      "M iterations\n"
     ]
    },
    {
     "name": "stdin",
     "output_type": "stream",
     "text": [
      " 10\n"
     ]
    },
    {
     "name": "stdout",
     "output_type": "stream",
     "text": [
      "Best Solution Xs: [-1.20288766e-04  5.31416476e-05 -1.00448571e-04 -1.04298894e-04\n",
      " -9.54478186e-06 -4.41417954e-06 -1.20017318e-04 -1.53096971e-04\n",
      " -5.04236914e-05  2.73793792e-04  2.32705278e-04  1.30363603e-04\n",
      "  8.10068407e-05 -5.68076128e-05  2.17520886e-04  1.57049274e-04\n",
      " -3.65729342e-04  6.41344988e-05 -3.67575143e-05 -9.28715697e-05], F: 0.000604191793531772\n",
      "Worst Solution Xs: [-2.56239019e-04 -5.80011050e-04  1.83969810e-05  6.24094385e-04\n",
      " -3.65179144e-04 -3.28667012e-04  3.63957199e-04  4.36819187e-04\n",
      "  1.23257216e-04  3.27710652e-04 -8.24859594e-05  1.51711263e-04\n",
      "  1.90023900e-04  3.13560690e-05 -7.49427334e-04 -3.86614433e-04\n",
      "  3.76570183e-04 -1.60068222e-04  2.33786645e-04 -1.12235206e-04], F: 0.0014185413801759417\n",
      "Median Solution Xs: [ 6.11753210e-05  2.34492337e-04 -2.02688516e-07  3.92462169e-04\n",
      "  1.07021788e-04  1.39248918e-06  1.40250277e-04  1.97522940e-04\n",
      "  2.42120932e-04 -7.90027939e-05 -1.11121076e-04  1.02177416e-04\n",
      " -2.33051693e-04 -6.17142415e-05  3.64380554e-05  1.45429626e-04\n",
      "  2.12635744e-04  2.28085137e-04 -3.63598877e-05 -2.93440556e-04], F: 0.0007148910879988257\n",
      "Function Mean: 0.00079440130331081\n",
      "Standard Deviation: 0.00023949702455824368\n"
     ]
    }
   ],
   "source": [
    "customEP()"
   ]
  }
 ],
 "metadata": {
  "kernelspec": {
   "display_name": "Python 3",
   "language": "python",
   "name": "python3"
  },
  "language_info": {
   "codemirror_mode": {
    "name": "ipython",
    "version": 3
   },
   "file_extension": ".py",
   "mimetype": "text/x-python",
   "name": "python",
   "nbconvert_exporter": "python",
   "pygments_lexer": "ipython3",
   "version": "3.8.5"
  }
 },
 "nbformat": 4,
 "nbformat_minor": 4
}
