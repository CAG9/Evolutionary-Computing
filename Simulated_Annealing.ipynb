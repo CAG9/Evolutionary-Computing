{
 "cells": [
  {
   "cell_type": "markdown",
   "metadata": {},
   "source": [
    "# Simulated Annealing\n",
    "# Recocido Simulado"
   ]
  },
  {
   "cell_type": "markdown",
   "metadata": {},
   "source": [
    "## 80 Points\n",
    "## 80 Puntos"
   ]
  },
  {
   "cell_type": "markdown",
   "metadata": {},
   "source": [
    "### Libraries\n",
    "### Librerias"
   ]
  },
  {
   "cell_type": "code",
   "execution_count": 149,
   "metadata": {},
   "outputs": [],
   "source": [
    "import pandas as pd\n",
    "import matplotlib.pyplot as plt\n",
    "import numpy as np\n",
    "import random\n",
    "import math"
   ]
  },
  {
   "cell_type": "markdown",
   "metadata": {},
   "source": [
    "### Input\n",
    "### Entrada"
   ]
  },
  {
   "cell_type": "code",
   "execution_count": 16,
   "metadata": {},
   "outputs": [],
   "source": [
    "with open(\"BackM.txt\", 'r') as file:\n",
    "     input_lines = [line.strip() for line in file]\n",
    "InitialT = float(input_lines[0].split()[0])\n",
    "FinalT = float(input_lines[0].split()[1])\n",
    "Objects = int(input_lines[1])\n",
    "Capacity = float(input_lines[2])\n",
    "Cost = []\n",
    "for i in range(int(Objects)):\n",
    "    Cost.append(np.array(input_lines[i+3].split()).astype(np.float64))\n",
    "Cost = np.asarray(Cost)\n",
    "Value = Cost[:,0]\n",
    "Weight = Cost[:,1]"
   ]
  },
  {
   "cell_type": "markdown",
   "metadata": {},
   "source": [
    "### Initial Solution\n",
    "### Solucion Inicial"
   ]
  },
  {
   "cell_type": "code",
   "execution_count": 32,
   "metadata": {},
   "outputs": [],
   "source": [
    "def getcost(Value,Weight,Capacity,initial):\n",
    "    total = 0\n",
    "    total_W=0\n",
    "    for i in range(len(initial)):\n",
    "        if initial[i] == 1:\n",
    "            total = total + Value[i]\n",
    "            total_W = total_W + Weight[i]\n",
    "    if total_W > Capacity:\n",
    "        return 0,10000\n",
    "    return total,total_W\n",
    "        "
   ]
  },
  {
   "cell_type": "code",
   "execution_count": 33,
   "metadata": {},
   "outputs": [
    {
     "data": {
      "text/plain": [
       "(42.0, 15.0)"
      ]
     },
     "execution_count": 33,
     "metadata": {},
     "output_type": "execute_result"
    }
   ],
   "source": [
    "getcost(Value,Weight,Capacity,[1,1,0,0,1])"
   ]
  },
  {
   "cell_type": "code",
   "execution_count": 22,
   "metadata": {},
   "outputs": [],
   "source": [
    "def getInitialSolution(Value,Weight,Capacity,Objects):\n",
    "    x = [0] * Objects\n",
    "    wx = 0\n",
    "    new_obj = list(range(Objects))\n",
    "    np.random.shuffle(new_obj)\n",
    "    for i in new_obj:\n",
    "        if (wx + Weight[i]) <= Capacity:\n",
    "            x[i] = 1\n",
    "            wx += Weight[i]\n",
    "    return x"
   ]
  },
  {
   "cell_type": "code",
   "execution_count": 23,
   "metadata": {},
   "outputs": [
    {
     "data": {
      "text/plain": [
       "[0, 1, 1, 1, 0]"
      ]
     },
     "execution_count": 23,
     "metadata": {},
     "output_type": "execute_result"
    }
   ],
   "source": [
    "getInitialSolution(Value,Weight,Capacity,Objects)"
   ]
  },
  {
   "cell_type": "markdown",
   "metadata": {},
   "source": [
    "### Neighborhood\n",
    "### Vecindario"
   ]
  },
  {
   "cell_type": "code",
   "execution_count": 24,
   "metadata": {},
   "outputs": [],
   "source": [
    "#getInitialSolution(Value,Weight,Capacity,Objects)\n",
    "def flip(x,index):\n",
    "    new_x = x.copy()\n",
    "    if x[index]==0:\n",
    "        new_x[index] = 1\n",
    "    else:\n",
    "        new_x[index] = 0\n",
    "    return new_x\n"
   ]
  },
  {
   "cell_type": "code",
   "execution_count": 39,
   "metadata": {},
   "outputs": [],
   "source": [
    "def neighborhood(Value,Weight,Capacity,initial):\n",
    "    neigh = []\n",
    "    for i in range(len(initial)):\n",
    "        cur = flip(initial.copy(),i)\n",
    "\n",
    "        if getcost(Value,Weight,Capacity,cur)[1] <= Capacity:\n",
    "            neigh.append(cur)\n",
    "        else: \n",
    "            None\n",
    "    return neigh"
   ]
  },
  {
   "cell_type": "code",
   "execution_count": 41,
   "metadata": {},
   "outputs": [
    {
     "data": {
      "text/plain": [
       "[[0, 1, 0, 0, 1], [1, 0, 0, 0, 1], [1, 1, 0, 0, 0]]"
      ]
     },
     "execution_count": 41,
     "metadata": {},
     "output_type": "execute_result"
    }
   ],
   "source": [
    "n= neighborhood(Value,Weight,Capacity,[1, 1, 0, 0, 1])\n",
    "n"
   ]
  },
  {
   "cell_type": "code",
   "execution_count": 110,
   "metadata": {},
   "outputs": [],
   "source": [
    "def ichooseyou(n):\n",
    "    return n[random.randint(0,len(n)-1)]"
   ]
  },
  {
   "cell_type": "code",
   "execution_count": 112,
   "metadata": {},
   "outputs": [
    {
     "data": {
      "text/plain": [
       "[0, 1, 0, 0, 1]"
      ]
     },
     "execution_count": 112,
     "metadata": {},
     "output_type": "execute_result"
    }
   ],
   "source": [
    "ichooseyou(n)"
   ]
  },
  {
   "cell_type": "code",
   "execution_count": 865,
   "metadata": {},
   "outputs": [],
   "source": [
    "def getlist(initial):\n",
    "    r = []\n",
    "    for i in range(len(initial)):\n",
    "        if initial[i]==1:\n",
    "            r.append(i)\n",
    "    return r "
   ]
  },
  {
   "cell_type": "code",
   "execution_count": 867,
   "metadata": {},
   "outputs": [
    {
     "data": {
      "text/plain": [
       "[0, 1, 4]"
      ]
     },
     "execution_count": 867,
     "metadata": {},
     "output_type": "execute_result"
    }
   ],
   "source": [
    "getlist([1, 1, 0, 0, 1])"
   ]
  },
  {
   "cell_type": "markdown",
   "metadata": {},
   "source": [
    "### Temperature \n",
    "### Temperatura"
   ]
  },
  {
   "cell_type": "code",
   "execution_count": 807,
   "metadata": {},
   "outputs": [],
   "source": [
    "def updateTemperature(t):\n",
    "\n",
    "    return 0.99*t"
   ]
  },
  {
   "cell_type": "markdown",
   "metadata": {},
   "source": [
    "### All in one\n",
    "### Todo en uno"
   ]
  },
  {
   "cell_type": "code",
   "execution_count": 876,
   "metadata": {},
   "outputs": [],
   "source": [
    "def SimulatedAnnealing(Value,Weight,Capacity,Objects,InitialT,FinalT):\n",
    "    x0 = getInitialSolution(Value,Weight,Capacity,Objects)\n",
    "    x = x0\n",
    "    fx = getcost(Value,Weight,Capacity,x0)[0]\n",
    "    t = InitialT\n",
    "    BestX = x.copy()\n",
    "    BestF = fx\n",
    "    while t >= FinalT:\n",
    "        ne = neighborhood(Value,Weight,Capacity,x)\n",
    "        newX = ichooseyou(ne)\n",
    "        newF = getcost(Value,Weight,Capacity,newX)[0]\n",
    "\n",
    "        if newF >= BestF:\n",
    "            BestX = newX.copy()\n",
    "            BestF = newF\n",
    "\n",
    "        #else:\n",
    "        if newF < fx or np.random.random() < math.exp(-1.0*(newF-fx)/t):\n",
    "            x = newX\n",
    "            fx = newF\n",
    "        t = updateTemperature(t)\n",
    "\n",
    "    Fresult = getcost(Value,Weight,Capacity,BestX)\n",
    "    \n",
    "\n",
    "    return getlist(BestX),BestX, getcost(Value,Weight,Capacity,BestX)\n",
    "\n"
   ]
  },
  {
   "cell_type": "code",
   "execution_count": 877,
   "metadata": {},
   "outputs": [
    {
     "data": {
      "text/plain": [
       "([0, 1, 4], [1, 1, 0, 0, 1], (42.0, 15.0))"
      ]
     },
     "execution_count": 877,
     "metadata": {},
     "output_type": "execute_result"
    }
   ],
   "source": [
    "SimulatedAnnealing(Value,Weight,Capacity,Objects,InitialT,FinalT)"
   ]
  },
  {
   "cell_type": "markdown",
   "metadata": {},
   "source": [
    "Using 0.9 in updateTemperature get more varied results."
   ]
  },
  {
   "cell_type": "markdown",
   "metadata": {},
   "source": [
    "## 20 Points\n",
    "## 20 Puntos"
   ]
  },
  {
   "cell_type": "code",
   "execution_count": 901,
   "metadata": {},
   "outputs": [
    {
     "name": "stdout",
     "output_type": "stream",
     "text": [
      "Txt:\n"
     ]
    },
    {
     "name": "stdin",
     "output_type": "stream",
     "text": [
      " BackM.txt\n"
     ]
    },
    {
     "name": "stdout",
     "output_type": "stream",
     "text": [
      "Runs: \n"
     ]
    },
    {
     "name": "stdin",
     "output_type": "stream",
     "text": [
      " 10\n"
     ]
    },
    {
     "name": "stdout",
     "output_type": "stream",
     "text": [
      "Best Solution:  [0, 1, 4] [1, 1, 0, 0, 1, 0] 42.0 15.0\n",
      "Worst Solution:  [0, 1, 4] [1, 1, 0, 0, 1, 0] 42.0 15.0\n",
      "Median:  [0, 1, 4] [1, 1, 0, 0, 1, 0] 42.0 15.0\n",
      "Mean objective function:  42.0\n",
      "Standard deviation:  0.0\n"
     ]
    }
   ],
   "source": [
    "def std(solutions):\n",
    "    m =np.mean(solutions)\n",
    "    all_ = 0\n",
    "    for i in range(len(solutions)):\n",
    "        all_ = all_ + (solutions[i] - m)**2\n",
    "    return np.sqrt(all_/len(solutions))\n",
    "\n",
    "def get_median(flist,Wlist,bestlist):\n",
    "        df = pd.DataFrame(flist, columns = ['flist'])\n",
    "        df[\"Wlist\"]= Wlist\n",
    "        df[\"bestlist\"]= bestlist\n",
    "        df = df.sort_values(by=['flist'])\n",
    "        #print(df.shape[0])\n",
    "        subset = df[['flist', 'Wlist', 'bestlist']]\n",
    "        tuples = [tuple(x) for x in subset.to_numpy()]        \n",
    "        l = df.shape[0]\n",
    "        if l %2 == 0:\n",
    "            return tuples[(l//2)]# df[(l//2)]\n",
    "        else:\n",
    "            return tuples[(l//2)-1]\n",
    "\n",
    "def getValues():\n",
    "    print(\"Txt:\")\n",
    "    txt = input()\n",
    "    with open(txt, 'r') as file:\n",
    "         input_lines = [line.strip() for line in file]\n",
    "    InitialT = float(input_lines[0].split()[0])\n",
    "    FinalT = float(input_lines[0].split()[1])\n",
    "    Objects = int(input_lines[1])\n",
    "    Capacity = float(input_lines[2])\n",
    "    Cost = []\n",
    "    for i in range(int(Objects)):\n",
    "        Cost.append(np.array(input_lines[i+3].split()).astype(np.float64))\n",
    "    Cost = np.asarray(Cost)\n",
    "    Value = Cost[:,0]\n",
    "    Weight = Cost[:,1]\n",
    "    return InitialT,FinalT,Objects,Capacity,Value,Weight\n",
    "\n",
    "\n",
    "InitialT,FinalT,Objects,Capacity,Value,Weight=getValues()\n",
    "print(\"Runs: \")\n",
    "m = int(input())\n",
    "sol=[]\n",
    "flist =[]\n",
    "Wlist = []\n",
    "bestlist=[]\n",
    "for i in range(m):\n",
    "    _,x_best ,f_best, = SimulatedAnnealing(Value,Weight,Capacity,Objects,InitialT,FinalT)\n",
    "    sol.append([f_best[0],f_best[1], x_best])\n",
    "    flist.append(f_best[0])\n",
    "    Wlist.append(f_best[1])\n",
    "    bestlist.append(x_best)\n",
    "    #print(x_best, f_best)\n",
    "\n",
    "    \n",
    "besT = np.argmax(flist)\n",
    "print(\"Best Solution: \",getlist(bestlist[besT]),bestlist[besT],flist[besT],Wlist[besT])\n",
    "besW = np.argmin(flist)\n",
    "print(\"Worst Solution: \",getlist(bestlist[besW]),bestlist[besW],flist[besW],Wlist[besW])\n",
    "med = get_median(flist,Wlist,bestlist)\n",
    "print(\"Median: \",getlist(med[2]),med[2],med[0],med[1])\n",
    "print(\"Mean objective function: \",np.mean(flist))\n",
    "print(\"Standard deviation: \",std(flist))"
   ]
  },
  {
   "cell_type": "code",
   "execution_count": null,
   "metadata": {},
   "outputs": [],
   "source": []
  }
 ],
 "metadata": {
  "kernelspec": {
   "display_name": "Python 3",
   "language": "python",
   "name": "python3"
  },
  "language_info": {
   "codemirror_mode": {
    "name": "ipython",
    "version": 3
   },
   "file_extension": ".py",
   "mimetype": "text/x-python",
   "name": "python",
   "nbconvert_exporter": "python",
   "pygments_lexer": "ipython3",
   "version": "3.8.5"
  }
 },
 "nbformat": 4,
 "nbformat_minor": 4
}
