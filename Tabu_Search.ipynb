{
 "cells": [
  {
   "cell_type": "markdown",
   "metadata": {},
   "source": [
    "# 80 Puntos"
   ]
  },
  {
   "cell_type": "code",
   "execution_count": 1,
   "metadata": {},
   "outputs": [],
   "source": [
    "import numpy as np \n",
    "import pandas as pd\n",
    "import math\n",
    "import random"
   ]
  },
  {
   "cell_type": "code",
   "execution_count": 9,
   "metadata": {},
   "outputs": [],
   "source": [
    "cities = 10\n",
    "maxiter = 100\n",
    "dic={\"1\":[float('inf') ,49,30,53,72,19,76,87,45,48],\"2\":[0,float('inf') ,19,38,32,31,75,69,61,25],\"3\":[0,0,float('inf') ,41,98,56,6,6,45,53],\"4\":[0,0,0,float('inf') ,52,29,46,90,23,98],\n",
    "     \"5\":[0,0,0,0,float('inf') ,63,90,69,50,82],\"6\":[0,0,0,0,0,float('inf') ,60,88,41,95],\"7\":[0,0,0,0,0,0,float('inf') ,61,92,10],\"8\":[0,0,0,0,0,0,0,float('inf') ,82,73],\"9\":[0,0,0,0,0,0,0,0,float('inf') ,5],\n",
    "     \"10\":[0,0,0,0,0,0,0,0,0,float('inf')]}\n",
    "     "
   ]
  },
  {
   "cell_type": "code",
   "execution_count": 10,
   "metadata": {},
   "outputs": [
    {
     "data": {
      "text/plain": [
       "{'1': [inf, 49, 30, 53, 72, 19, 76, 87, 45, 48],\n",
       " '2': [0, inf, 19, 38, 32, 31, 75, 69, 61, 25],\n",
       " '3': [0, 0, inf, 41, 98, 56, 6, 6, 45, 53],\n",
       " '4': [0, 0, 0, inf, 52, 29, 46, 90, 23, 98],\n",
       " '5': [0, 0, 0, 0, inf, 63, 90, 69, 50, 82],\n",
       " '6': [0, 0, 0, 0, 0, inf, 60, 88, 41, 95],\n",
       " '7': [0, 0, 0, 0, 0, 0, inf, 61, 92, 10],\n",
       " '8': [0, 0, 0, 0, 0, 0, 0, inf, 82, 73],\n",
       " '9': [0, 0, 0, 0, 0, 0, 0, 0, inf, 5],\n",
       " '10': [0, 0, 0, 0, 0, 0, 0, 0, 0, inf]}"
      ]
     },
     "execution_count": 10,
     "metadata": {},
     "output_type": "execute_result"
    }
   ],
   "source": [
    "dic"
   ]
  },
  {
   "cell_type": "code",
   "execution_count": 11,
   "metadata": {},
   "outputs": [
    {
     "data": {
      "text/html": [
       "<div>\n",
       "<style scoped>\n",
       "    .dataframe tbody tr th:only-of-type {\n",
       "        vertical-align: middle;\n",
       "    }\n",
       "\n",
       "    .dataframe tbody tr th {\n",
       "        vertical-align: top;\n",
       "    }\n",
       "\n",
       "    .dataframe thead th {\n",
       "        text-align: right;\n",
       "    }\n",
       "</style>\n",
       "<table border=\"1\" class=\"dataframe\">\n",
       "  <thead>\n",
       "    <tr style=\"text-align: right;\">\n",
       "      <th></th>\n",
       "      <th>0</th>\n",
       "      <th>1</th>\n",
       "      <th>2</th>\n",
       "      <th>3</th>\n",
       "      <th>4</th>\n",
       "      <th>5</th>\n",
       "      <th>6</th>\n",
       "      <th>7</th>\n",
       "      <th>8</th>\n",
       "      <th>9</th>\n",
       "    </tr>\n",
       "  </thead>\n",
       "  <tbody>\n",
       "    <tr>\n",
       "      <th>1</th>\n",
       "      <td>inf</td>\n",
       "      <td>49.0</td>\n",
       "      <td>30.0</td>\n",
       "      <td>53.0</td>\n",
       "      <td>72.0</td>\n",
       "      <td>19.0</td>\n",
       "      <td>76.0</td>\n",
       "      <td>87.0</td>\n",
       "      <td>45.0</td>\n",
       "      <td>48.0</td>\n",
       "    </tr>\n",
       "    <tr>\n",
       "      <th>2</th>\n",
       "      <td>0.0</td>\n",
       "      <td>inf</td>\n",
       "      <td>19.0</td>\n",
       "      <td>38.0</td>\n",
       "      <td>32.0</td>\n",
       "      <td>31.0</td>\n",
       "      <td>75.0</td>\n",
       "      <td>69.0</td>\n",
       "      <td>61.0</td>\n",
       "      <td>25.0</td>\n",
       "    </tr>\n",
       "    <tr>\n",
       "      <th>3</th>\n",
       "      <td>0.0</td>\n",
       "      <td>0.0</td>\n",
       "      <td>inf</td>\n",
       "      <td>41.0</td>\n",
       "      <td>98.0</td>\n",
       "      <td>56.0</td>\n",
       "      <td>6.0</td>\n",
       "      <td>6.0</td>\n",
       "      <td>45.0</td>\n",
       "      <td>53.0</td>\n",
       "    </tr>\n",
       "    <tr>\n",
       "      <th>4</th>\n",
       "      <td>0.0</td>\n",
       "      <td>0.0</td>\n",
       "      <td>0.0</td>\n",
       "      <td>inf</td>\n",
       "      <td>52.0</td>\n",
       "      <td>29.0</td>\n",
       "      <td>46.0</td>\n",
       "      <td>90.0</td>\n",
       "      <td>23.0</td>\n",
       "      <td>98.0</td>\n",
       "    </tr>\n",
       "    <tr>\n",
       "      <th>5</th>\n",
       "      <td>0.0</td>\n",
       "      <td>0.0</td>\n",
       "      <td>0.0</td>\n",
       "      <td>0.0</td>\n",
       "      <td>inf</td>\n",
       "      <td>63.0</td>\n",
       "      <td>90.0</td>\n",
       "      <td>69.0</td>\n",
       "      <td>50.0</td>\n",
       "      <td>82.0</td>\n",
       "    </tr>\n",
       "    <tr>\n",
       "      <th>6</th>\n",
       "      <td>0.0</td>\n",
       "      <td>0.0</td>\n",
       "      <td>0.0</td>\n",
       "      <td>0.0</td>\n",
       "      <td>0.0</td>\n",
       "      <td>inf</td>\n",
       "      <td>60.0</td>\n",
       "      <td>88.0</td>\n",
       "      <td>41.0</td>\n",
       "      <td>95.0</td>\n",
       "    </tr>\n",
       "    <tr>\n",
       "      <th>7</th>\n",
       "      <td>0.0</td>\n",
       "      <td>0.0</td>\n",
       "      <td>0.0</td>\n",
       "      <td>0.0</td>\n",
       "      <td>0.0</td>\n",
       "      <td>0.0</td>\n",
       "      <td>inf</td>\n",
       "      <td>61.0</td>\n",
       "      <td>92.0</td>\n",
       "      <td>10.0</td>\n",
       "    </tr>\n",
       "    <tr>\n",
       "      <th>8</th>\n",
       "      <td>0.0</td>\n",
       "      <td>0.0</td>\n",
       "      <td>0.0</td>\n",
       "      <td>0.0</td>\n",
       "      <td>0.0</td>\n",
       "      <td>0.0</td>\n",
       "      <td>0.0</td>\n",
       "      <td>inf</td>\n",
       "      <td>82.0</td>\n",
       "      <td>73.0</td>\n",
       "    </tr>\n",
       "    <tr>\n",
       "      <th>9</th>\n",
       "      <td>0.0</td>\n",
       "      <td>0.0</td>\n",
       "      <td>0.0</td>\n",
       "      <td>0.0</td>\n",
       "      <td>0.0</td>\n",
       "      <td>0.0</td>\n",
       "      <td>0.0</td>\n",
       "      <td>0.0</td>\n",
       "      <td>inf</td>\n",
       "      <td>5.0</td>\n",
       "    </tr>\n",
       "    <tr>\n",
       "      <th>10</th>\n",
       "      <td>0.0</td>\n",
       "      <td>0.0</td>\n",
       "      <td>0.0</td>\n",
       "      <td>0.0</td>\n",
       "      <td>0.0</td>\n",
       "      <td>0.0</td>\n",
       "      <td>0.0</td>\n",
       "      <td>0.0</td>\n",
       "      <td>0.0</td>\n",
       "      <td>inf</td>\n",
       "    </tr>\n",
       "  </tbody>\n",
       "</table>\n",
       "</div>"
      ],
      "text/plain": [
       "      0     1     2     3     4     5     6     7     8     9\n",
       "1   inf  49.0  30.0  53.0  72.0  19.0  76.0  87.0  45.0  48.0\n",
       "2   0.0   inf  19.0  38.0  32.0  31.0  75.0  69.0  61.0  25.0\n",
       "3   0.0   0.0   inf  41.0  98.0  56.0   6.0   6.0  45.0  53.0\n",
       "4   0.0   0.0   0.0   inf  52.0  29.0  46.0  90.0  23.0  98.0\n",
       "5   0.0   0.0   0.0   0.0   inf  63.0  90.0  69.0  50.0  82.0\n",
       "6   0.0   0.0   0.0   0.0   0.0   inf  60.0  88.0  41.0  95.0\n",
       "7   0.0   0.0   0.0   0.0   0.0   0.0   inf  61.0  92.0  10.0\n",
       "8   0.0   0.0   0.0   0.0   0.0   0.0   0.0   inf  82.0  73.0\n",
       "9   0.0   0.0   0.0   0.0   0.0   0.0   0.0   0.0   inf   5.0\n",
       "10  0.0   0.0   0.0   0.0   0.0   0.0   0.0   0.0   0.0   inf"
      ]
     },
     "execution_count": 11,
     "metadata": {},
     "output_type": "execute_result"
    }
   ],
   "source": [
    "al = pd.DataFrame.from_dict(dic,orient='index')\n",
    "\n",
    "al"
   ]
  },
  {
   "cell_type": "code",
   "execution_count": 12,
   "metadata": {},
   "outputs": [],
   "source": [
    "count=0\n",
    "for i in al:\n",
    "    if al.iloc[i,0] == 0:\n",
    "        al.iloc[i,0] = al.iloc[0,count] \n",
    "    count+=1\n",
    "count=0\n",
    "for i in al:\n",
    "    if al.iloc[i,1] == 0:\n",
    "        al.iloc[i,1] = al.iloc[1,count] \n",
    "    count+=1\n",
    "count=0\n",
    "for i in al:\n",
    "    if al.iloc[i,2] == 0:\n",
    "        al.iloc[i,2] = al.iloc[2,count] \n",
    "    count+=1\n",
    "count=0\n",
    "for i in al:\n",
    "    if al.iloc[i,3] == 0:\n",
    "        al.iloc[i,3] = al.iloc[3,count] \n",
    "    count+=1\n",
    "count=0\n",
    "for i in al:\n",
    "    if al.iloc[i,4] == 0:\n",
    "        al.iloc[i,4] = al.iloc[4,count] \n",
    "    count+=1\n",
    "count=0\n",
    "for i in al:\n",
    "    if al.iloc[i,5] == 0:\n",
    "        al.iloc[i,5] = al.iloc[5,count] \n",
    "    count+=1\n",
    "count=0\n",
    "for i in al:\n",
    "    if al.iloc[i,6] == 0:\n",
    "        al.iloc[i,6] = al.iloc[6,count] \n",
    "    count+=1\n",
    "count=0\n",
    "for i in al:\n",
    "    if al.iloc[i,7] == 0:\n",
    "        al.iloc[i,7] = al.iloc[7,count] \n",
    "    count+=1\n",
    "count=0\n",
    "for i in al:\n",
    "    if al.iloc[i,8] == 0:\n",
    "        al.iloc[i,8] = al.iloc[8,count] \n",
    "    count+=1"
   ]
  },
  {
   "cell_type": "code",
   "execution_count": 13,
   "metadata": {},
   "outputs": [
    {
     "data": {
      "text/html": [
       "<div>\n",
       "<style scoped>\n",
       "    .dataframe tbody tr th:only-of-type {\n",
       "        vertical-align: middle;\n",
       "    }\n",
       "\n",
       "    .dataframe tbody tr th {\n",
       "        vertical-align: top;\n",
       "    }\n",
       "\n",
       "    .dataframe thead th {\n",
       "        text-align: right;\n",
       "    }\n",
       "</style>\n",
       "<table border=\"1\" class=\"dataframe\">\n",
       "  <thead>\n",
       "    <tr style=\"text-align: right;\">\n",
       "      <th></th>\n",
       "      <th>0</th>\n",
       "      <th>1</th>\n",
       "      <th>2</th>\n",
       "      <th>3</th>\n",
       "      <th>4</th>\n",
       "      <th>5</th>\n",
       "      <th>6</th>\n",
       "      <th>7</th>\n",
       "      <th>8</th>\n",
       "      <th>9</th>\n",
       "    </tr>\n",
       "  </thead>\n",
       "  <tbody>\n",
       "    <tr>\n",
       "      <th>1</th>\n",
       "      <td>inf</td>\n",
       "      <td>49.0</td>\n",
       "      <td>30.0</td>\n",
       "      <td>53.0</td>\n",
       "      <td>72.0</td>\n",
       "      <td>19.0</td>\n",
       "      <td>76.0</td>\n",
       "      <td>87.0</td>\n",
       "      <td>45.0</td>\n",
       "      <td>48.0</td>\n",
       "    </tr>\n",
       "    <tr>\n",
       "      <th>2</th>\n",
       "      <td>49.0</td>\n",
       "      <td>inf</td>\n",
       "      <td>19.0</td>\n",
       "      <td>38.0</td>\n",
       "      <td>32.0</td>\n",
       "      <td>31.0</td>\n",
       "      <td>75.0</td>\n",
       "      <td>69.0</td>\n",
       "      <td>61.0</td>\n",
       "      <td>25.0</td>\n",
       "    </tr>\n",
       "    <tr>\n",
       "      <th>3</th>\n",
       "      <td>30.0</td>\n",
       "      <td>19.0</td>\n",
       "      <td>inf</td>\n",
       "      <td>41.0</td>\n",
       "      <td>98.0</td>\n",
       "      <td>56.0</td>\n",
       "      <td>6.0</td>\n",
       "      <td>6.0</td>\n",
       "      <td>45.0</td>\n",
       "      <td>53.0</td>\n",
       "    </tr>\n",
       "    <tr>\n",
       "      <th>4</th>\n",
       "      <td>53.0</td>\n",
       "      <td>38.0</td>\n",
       "      <td>41.0</td>\n",
       "      <td>inf</td>\n",
       "      <td>52.0</td>\n",
       "      <td>29.0</td>\n",
       "      <td>46.0</td>\n",
       "      <td>90.0</td>\n",
       "      <td>23.0</td>\n",
       "      <td>98.0</td>\n",
       "    </tr>\n",
       "    <tr>\n",
       "      <th>5</th>\n",
       "      <td>72.0</td>\n",
       "      <td>32.0</td>\n",
       "      <td>98.0</td>\n",
       "      <td>52.0</td>\n",
       "      <td>inf</td>\n",
       "      <td>63.0</td>\n",
       "      <td>90.0</td>\n",
       "      <td>69.0</td>\n",
       "      <td>50.0</td>\n",
       "      <td>82.0</td>\n",
       "    </tr>\n",
       "    <tr>\n",
       "      <th>6</th>\n",
       "      <td>19.0</td>\n",
       "      <td>31.0</td>\n",
       "      <td>56.0</td>\n",
       "      <td>29.0</td>\n",
       "      <td>63.0</td>\n",
       "      <td>inf</td>\n",
       "      <td>60.0</td>\n",
       "      <td>88.0</td>\n",
       "      <td>41.0</td>\n",
       "      <td>95.0</td>\n",
       "    </tr>\n",
       "    <tr>\n",
       "      <th>7</th>\n",
       "      <td>76.0</td>\n",
       "      <td>75.0</td>\n",
       "      <td>6.0</td>\n",
       "      <td>46.0</td>\n",
       "      <td>90.0</td>\n",
       "      <td>60.0</td>\n",
       "      <td>inf</td>\n",
       "      <td>61.0</td>\n",
       "      <td>92.0</td>\n",
       "      <td>10.0</td>\n",
       "    </tr>\n",
       "    <tr>\n",
       "      <th>8</th>\n",
       "      <td>87.0</td>\n",
       "      <td>69.0</td>\n",
       "      <td>6.0</td>\n",
       "      <td>90.0</td>\n",
       "      <td>69.0</td>\n",
       "      <td>88.0</td>\n",
       "      <td>61.0</td>\n",
       "      <td>inf</td>\n",
       "      <td>82.0</td>\n",
       "      <td>73.0</td>\n",
       "    </tr>\n",
       "    <tr>\n",
       "      <th>9</th>\n",
       "      <td>45.0</td>\n",
       "      <td>61.0</td>\n",
       "      <td>45.0</td>\n",
       "      <td>23.0</td>\n",
       "      <td>50.0</td>\n",
       "      <td>41.0</td>\n",
       "      <td>92.0</td>\n",
       "      <td>82.0</td>\n",
       "      <td>inf</td>\n",
       "      <td>5.0</td>\n",
       "    </tr>\n",
       "    <tr>\n",
       "      <th>10</th>\n",
       "      <td>48.0</td>\n",
       "      <td>25.0</td>\n",
       "      <td>53.0</td>\n",
       "      <td>98.0</td>\n",
       "      <td>82.0</td>\n",
       "      <td>95.0</td>\n",
       "      <td>10.0</td>\n",
       "      <td>73.0</td>\n",
       "      <td>5.0</td>\n",
       "      <td>inf</td>\n",
       "    </tr>\n",
       "  </tbody>\n",
       "</table>\n",
       "</div>"
      ],
      "text/plain": [
       "       0     1     2     3     4     5     6     7     8     9\n",
       "1    inf  49.0  30.0  53.0  72.0  19.0  76.0  87.0  45.0  48.0\n",
       "2   49.0   inf  19.0  38.0  32.0  31.0  75.0  69.0  61.0  25.0\n",
       "3   30.0  19.0   inf  41.0  98.0  56.0   6.0   6.0  45.0  53.0\n",
       "4   53.0  38.0  41.0   inf  52.0  29.0  46.0  90.0  23.0  98.0\n",
       "5   72.0  32.0  98.0  52.0   inf  63.0  90.0  69.0  50.0  82.0\n",
       "6   19.0  31.0  56.0  29.0  63.0   inf  60.0  88.0  41.0  95.0\n",
       "7   76.0  75.0   6.0  46.0  90.0  60.0   inf  61.0  92.0  10.0\n",
       "8   87.0  69.0   6.0  90.0  69.0  88.0  61.0   inf  82.0  73.0\n",
       "9   45.0  61.0  45.0  23.0  50.0  41.0  92.0  82.0   inf   5.0\n",
       "10  48.0  25.0  53.0  98.0  82.0  95.0  10.0  73.0   5.0   inf"
      ]
     },
     "execution_count": 13,
     "metadata": {},
     "output_type": "execute_result"
    }
   ],
   "source": [
    "al"
   ]
  },
  {
   "cell_type": "code",
   "execution_count": 14,
   "metadata": {},
   "outputs": [
    {
     "data": {
      "text/html": [
       "<div>\n",
       "<style scoped>\n",
       "    .dataframe tbody tr th:only-of-type {\n",
       "        vertical-align: middle;\n",
       "    }\n",
       "\n",
       "    .dataframe tbody tr th {\n",
       "        vertical-align: top;\n",
       "    }\n",
       "\n",
       "    .dataframe thead th {\n",
       "        text-align: right;\n",
       "    }\n",
       "</style>\n",
       "<table border=\"1\" class=\"dataframe\">\n",
       "  <thead>\n",
       "    <tr style=\"text-align: right;\">\n",
       "      <th></th>\n",
       "      <th>0</th>\n",
       "      <th>1</th>\n",
       "      <th>2</th>\n",
       "      <th>3</th>\n",
       "      <th>4</th>\n",
       "      <th>5</th>\n",
       "      <th>6</th>\n",
       "      <th>7</th>\n",
       "      <th>8</th>\n",
       "      <th>9</th>\n",
       "    </tr>\n",
       "  </thead>\n",
       "  <tbody>\n",
       "    <tr>\n",
       "      <th>1</th>\n",
       "      <td>inf</td>\n",
       "      <td>49.0</td>\n",
       "      <td>30.0</td>\n",
       "      <td>53.0</td>\n",
       "      <td>72.0</td>\n",
       "      <td>19.0</td>\n",
       "      <td>76.0</td>\n",
       "      <td>87.0</td>\n",
       "      <td>45.0</td>\n",
       "      <td>48.0</td>\n",
       "    </tr>\n",
       "    <tr>\n",
       "      <th>2</th>\n",
       "      <td>49.0</td>\n",
       "      <td>inf</td>\n",
       "      <td>19.0</td>\n",
       "      <td>38.0</td>\n",
       "      <td>32.0</td>\n",
       "      <td>31.0</td>\n",
       "      <td>75.0</td>\n",
       "      <td>69.0</td>\n",
       "      <td>61.0</td>\n",
       "      <td>25.0</td>\n",
       "    </tr>\n",
       "    <tr>\n",
       "      <th>3</th>\n",
       "      <td>30.0</td>\n",
       "      <td>19.0</td>\n",
       "      <td>inf</td>\n",
       "      <td>41.0</td>\n",
       "      <td>98.0</td>\n",
       "      <td>56.0</td>\n",
       "      <td>6.0</td>\n",
       "      <td>6.0</td>\n",
       "      <td>45.0</td>\n",
       "      <td>53.0</td>\n",
       "    </tr>\n",
       "    <tr>\n",
       "      <th>4</th>\n",
       "      <td>53.0</td>\n",
       "      <td>38.0</td>\n",
       "      <td>41.0</td>\n",
       "      <td>inf</td>\n",
       "      <td>52.0</td>\n",
       "      <td>29.0</td>\n",
       "      <td>46.0</td>\n",
       "      <td>90.0</td>\n",
       "      <td>23.0</td>\n",
       "      <td>98.0</td>\n",
       "    </tr>\n",
       "    <tr>\n",
       "      <th>5</th>\n",
       "      <td>72.0</td>\n",
       "      <td>32.0</td>\n",
       "      <td>98.0</td>\n",
       "      <td>52.0</td>\n",
       "      <td>inf</td>\n",
       "      <td>63.0</td>\n",
       "      <td>90.0</td>\n",
       "      <td>69.0</td>\n",
       "      <td>50.0</td>\n",
       "      <td>82.0</td>\n",
       "    </tr>\n",
       "    <tr>\n",
       "      <th>6</th>\n",
       "      <td>19.0</td>\n",
       "      <td>31.0</td>\n",
       "      <td>56.0</td>\n",
       "      <td>29.0</td>\n",
       "      <td>63.0</td>\n",
       "      <td>inf</td>\n",
       "      <td>60.0</td>\n",
       "      <td>88.0</td>\n",
       "      <td>41.0</td>\n",
       "      <td>95.0</td>\n",
       "    </tr>\n",
       "    <tr>\n",
       "      <th>7</th>\n",
       "      <td>76.0</td>\n",
       "      <td>75.0</td>\n",
       "      <td>6.0</td>\n",
       "      <td>46.0</td>\n",
       "      <td>90.0</td>\n",
       "      <td>60.0</td>\n",
       "      <td>inf</td>\n",
       "      <td>61.0</td>\n",
       "      <td>92.0</td>\n",
       "      <td>10.0</td>\n",
       "    </tr>\n",
       "    <tr>\n",
       "      <th>8</th>\n",
       "      <td>87.0</td>\n",
       "      <td>69.0</td>\n",
       "      <td>6.0</td>\n",
       "      <td>90.0</td>\n",
       "      <td>69.0</td>\n",
       "      <td>88.0</td>\n",
       "      <td>61.0</td>\n",
       "      <td>inf</td>\n",
       "      <td>82.0</td>\n",
       "      <td>73.0</td>\n",
       "    </tr>\n",
       "    <tr>\n",
       "      <th>9</th>\n",
       "      <td>45.0</td>\n",
       "      <td>61.0</td>\n",
       "      <td>45.0</td>\n",
       "      <td>23.0</td>\n",
       "      <td>50.0</td>\n",
       "      <td>41.0</td>\n",
       "      <td>92.0</td>\n",
       "      <td>82.0</td>\n",
       "      <td>inf</td>\n",
       "      <td>5.0</td>\n",
       "    </tr>\n",
       "    <tr>\n",
       "      <th>10</th>\n",
       "      <td>48.0</td>\n",
       "      <td>25.0</td>\n",
       "      <td>53.0</td>\n",
       "      <td>98.0</td>\n",
       "      <td>82.0</td>\n",
       "      <td>95.0</td>\n",
       "      <td>10.0</td>\n",
       "      <td>73.0</td>\n",
       "      <td>5.0</td>\n",
       "      <td>inf</td>\n",
       "    </tr>\n",
       "  </tbody>\n",
       "</table>\n",
       "</div>"
      ],
      "text/plain": [
       "       0     1     2     3     4     5     6     7     8     9\n",
       "1    inf  49.0  30.0  53.0  72.0  19.0  76.0  87.0  45.0  48.0\n",
       "2   49.0   inf  19.0  38.0  32.0  31.0  75.0  69.0  61.0  25.0\n",
       "3   30.0  19.0   inf  41.0  98.0  56.0   6.0   6.0  45.0  53.0\n",
       "4   53.0  38.0  41.0   inf  52.0  29.0  46.0  90.0  23.0  98.0\n",
       "5   72.0  32.0  98.0  52.0   inf  63.0  90.0  69.0  50.0  82.0\n",
       "6   19.0  31.0  56.0  29.0  63.0   inf  60.0  88.0  41.0  95.0\n",
       "7   76.0  75.0   6.0  46.0  90.0  60.0   inf  61.0  92.0  10.0\n",
       "8   87.0  69.0   6.0  90.0  69.0  88.0  61.0   inf  82.0  73.0\n",
       "9   45.0  61.0  45.0  23.0  50.0  41.0  92.0  82.0   inf   5.0\n",
       "10  48.0  25.0  53.0  98.0  82.0  95.0  10.0  73.0   5.0   inf"
      ]
     },
     "execution_count": 14,
     "metadata": {},
     "output_type": "execute_result"
    }
   ],
   "source": [
    "newa = al.copy()\n",
    "newa"
   ]
  },
  {
   "cell_type": "code",
   "execution_count": 15,
   "metadata": {},
   "outputs": [
    {
     "data": {
      "text/plain": [
       "array([[inf, 49., 30., 53., 72., 19., 76., 87., 45., 48.],\n",
       "       [49., inf, 19., 38., 32., 31., 75., 69., 61., 25.],\n",
       "       [30., 19., inf, 41., 98., 56.,  6.,  6., 45., 53.],\n",
       "       [53., 38., 41., inf, 52., 29., 46., 90., 23., 98.],\n",
       "       [72., 32., 98., 52., inf, 63., 90., 69., 50., 82.],\n",
       "       [19., 31., 56., 29., 63., inf, 60., 88., 41., 95.],\n",
       "       [76., 75.,  6., 46., 90., 60., inf, 61., 92., 10.],\n",
       "       [87., 69.,  6., 90., 69., 88., 61., inf, 82., 73.],\n",
       "       [45., 61., 45., 23., 50., 41., 92., 82., inf,  5.],\n",
       "       [48., 25., 53., 98., 82., 95., 10., 73.,  5., inf]])"
      ]
     },
     "execution_count": 15,
     "metadata": {},
     "output_type": "execute_result"
    }
   ],
   "source": [
    "new_dict = al.to_numpy().copy()\n",
    "new_dict"
   ]
  },
  {
   "cell_type": "code",
   "execution_count": 16,
   "metadata": {},
   "outputs": [],
   "source": [
    "def powa(new_dict,target):\n",
    "    for i in range(10):\n",
    "        new_dict[i][target]  = float('inf')\n",
    "    "
   ]
  },
  {
   "cell_type": "markdown",
   "metadata": {},
   "source": [
    "# Initial Solution"
   ]
  },
  {
   "cell_type": "code",
   "execution_count": 17,
   "metadata": {},
   "outputs": [],
   "source": [
    "def initialsolution(new_dict,dic):\n",
    "    back = new_dict.copy()\n",
    "    path= [0]\n",
    "    total = 0\n",
    "    currcity = 0\n",
    "    powa(new_dict,0)\n",
    "    for i in range(0,9):\n",
    "\n",
    "        min_= np.argmin(new_dict[currcity])\n",
    "        total = total + new_dict[currcity][min_]\n",
    "        path.append(min_)\n",
    "        currcity = min_\n",
    "        powa(new_dict,min_)\n",
    "\n",
    "    path.append(0)\n",
    "    total = total+dic[\"1\"][path[-2]]\n",
    "    new_dict = back.copy()\n",
    "\n",
    "    return path\n"
   ]
  },
  {
   "cell_type": "code",
   "execution_count": 18,
   "metadata": {},
   "outputs": [
    {
     "name": "stdout",
     "output_type": "stream",
     "text": [
      "[0, 5, 3, 8, 9, 6, 2, 7, 1, 4, 0]\n"
     ]
    }
   ],
   "source": [
    "path_=initialsolution(new_dict,dic)\n",
    "print(path_)\n"
   ]
  },
  {
   "cell_type": "code",
   "execution_count": 19,
   "metadata": {},
   "outputs": [
    {
     "data": {
      "text/plain": [
       "array([[inf, inf, inf, inf, inf, inf, inf, inf, inf, inf],\n",
       "       [inf, inf, inf, inf, inf, inf, inf, inf, inf, inf],\n",
       "       [inf, inf, inf, inf, inf, inf, inf, inf, inf, inf],\n",
       "       [inf, inf, inf, inf, inf, inf, inf, inf, inf, inf],\n",
       "       [inf, inf, inf, inf, inf, inf, inf, inf, inf, inf],\n",
       "       [inf, inf, inf, inf, inf, inf, inf, inf, inf, inf],\n",
       "       [inf, inf, inf, inf, inf, inf, inf, inf, inf, inf],\n",
       "       [inf, inf, inf, inf, inf, inf, inf, inf, inf, inf],\n",
       "       [inf, inf, inf, inf, inf, inf, inf, inf, inf, inf],\n",
       "       [inf, inf, inf, inf, inf, inf, inf, inf, inf, inf]])"
      ]
     },
     "execution_count": 19,
     "metadata": {},
     "output_type": "execute_result"
    }
   ],
   "source": [
    "new_dict"
   ]
  },
  {
   "cell_type": "code",
   "execution_count": 20,
   "metadata": {},
   "outputs": [
    {
     "data": {
      "text/plain": [
       "array([[inf, 49., 30., 53., 72., 19., 76., 87., 45., 48.],\n",
       "       [49., inf, 19., 38., 32., 31., 75., 69., 61., 25.],\n",
       "       [30., 19., inf, 41., 98., 56.,  6.,  6., 45., 53.],\n",
       "       [53., 38., 41., inf, 52., 29., 46., 90., 23., 98.],\n",
       "       [72., 32., 98., 52., inf, 63., 90., 69., 50., 82.],\n",
       "       [19., 31., 56., 29., 63., inf, 60., 88., 41., 95.],\n",
       "       [76., 75.,  6., 46., 90., 60., inf, 61., 92., 10.],\n",
       "       [87., 69.,  6., 90., 69., 88., 61., inf, 82., 73.],\n",
       "       [45., 61., 45., 23., 50., 41., 92., 82., inf,  5.],\n",
       "       [48., 25., 53., 98., 82., 95., 10., 73.,  5., inf]])"
      ]
     },
     "execution_count": 20,
     "metadata": {},
     "output_type": "execute_result"
    }
   ],
   "source": [
    "new_dict = al.to_numpy().copy()\n",
    "new_dict"
   ]
  },
  {
   "cell_type": "markdown",
   "metadata": {},
   "source": [
    "# "
   ]
  },
  {
   "cell_type": "markdown",
   "metadata": {},
   "source": [
    "# Objective Function"
   ]
  },
  {
   "cell_type": "code",
   "execution_count": 21,
   "metadata": {},
   "outputs": [],
   "source": [
    "def gettotal(x,new_dict):\n",
    "    back = new_dict\n",
    "    total = 0\n",
    "    currcity = 0\n",
    "    co = 0\n",
    "    for i in x:\n",
    "        if co == 9:\n",
    "            break\n",
    "        total = total + new_dict[i][x[co+1]]\n",
    "        co+=1\n",
    "    lastcity = x[-2]\n",
    "    destiny = x[-1]\n",
    "    total += new_dict[lastcity][destiny]\n",
    "    new_dict = back\n",
    "\n",
    "    return total"
   ]
  },
  {
   "cell_type": "code",
   "execution_count": 22,
   "metadata": {},
   "outputs": [
    {
     "data": {
      "text/plain": [
       "499.0"
      ]
     },
     "execution_count": 22,
     "metadata": {},
     "output_type": "execute_result"
    }
   ],
   "source": [
    "gettotal([0, 5, 3, 2, 9, 6, 8, 7, 1, 4,0],new_dict)"
   ]
  },
  {
   "cell_type": "markdown",
   "metadata": {},
   "source": [
    "# Restriccion"
   ]
  },
  {
   "cell_type": "code",
   "execution_count": 23,
   "metadata": {},
   "outputs": [],
   "source": [
    "tabu_list = {}"
   ]
  },
  {
   "cell_type": "markdown",
   "metadata": {},
   "source": [
    "# Movimientos"
   ]
  },
  {
   "cell_type": "code",
   "execution_count": 24,
   "metadata": {},
   "outputs": [],
   "source": [
    "def getneighborhood(initial):\n",
    "#initial = [0, 4, 3, 7, 5, 2, 6, 8, 1, 0]\n",
    "    random_pos = random.randint(1,8)\n",
    "    rand_num = initial[random_pos]\n",
    "    newmoves = []\n",
    "    initial2 = initial.copy()\n",
    "    bloc = initial.copy()\n",
    "    #tabu_list[initial[movto]] = time\n",
    "    for i in range(1,len(initial)-1):\n",
    "        a = initial[random_pos]\n",
    "        b = initial[i]\n",
    "        initial2[random_pos] = b\n",
    "        initial2[i] = a\n",
    "        newmoves.append(initial2)\n",
    "        initial2 = initial.copy()\n",
    "    \n",
    "    newmoves.remove(bloc) \n",
    "    return newmoves,rand_num"
   ]
  },
  {
   "cell_type": "code",
   "execution_count": 25,
   "metadata": {},
   "outputs": [
    {
     "data": {
      "text/plain": [
       "{}"
      ]
     },
     "execution_count": 25,
     "metadata": {},
     "output_type": "execute_result"
    }
   ],
   "source": [
    "tabu_list"
   ]
  },
  {
   "cell_type": "code",
   "execution_count": 26,
   "metadata": {},
   "outputs": [
    {
     "data": {
      "text/plain": [
       "([[0, 1, 3, 8, 9, 6, 2, 7, 5, 4, 0],\n",
       "  [0, 5, 1, 8, 9, 6, 2, 7, 3, 4, 0],\n",
       "  [0, 5, 3, 1, 9, 6, 2, 7, 8, 4, 0],\n",
       "  [0, 5, 3, 8, 1, 6, 2, 7, 9, 4, 0],\n",
       "  [0, 5, 3, 8, 9, 1, 2, 7, 6, 4, 0],\n",
       "  [0, 5, 3, 8, 9, 6, 1, 7, 2, 4, 0],\n",
       "  [0, 5, 3, 8, 9, 6, 2, 1, 7, 4, 0],\n",
       "  [0, 5, 3, 8, 9, 6, 2, 7, 4, 1, 0]],\n",
       " 1)"
      ]
     },
     "execution_count": 26,
     "metadata": {},
     "output_type": "execute_result"
    }
   ],
   "source": [
    "getneighborhood([0, 5, 3, 8, 9, 6, 2, 7, 1, 4, 0])\n"
   ]
  },
  {
   "cell_type": "code",
   "execution_count": 27,
   "metadata": {},
   "outputs": [
    {
     "data": {
      "text/plain": [
       "array([[inf, 49., 30., 53., 72., 19., 76., 87., 45., 48.],\n",
       "       [49., inf, 19., 38., 32., 31., 75., 69., 61., 25.],\n",
       "       [30., 19., inf, 41., 98., 56.,  6.,  6., 45., 53.],\n",
       "       [53., 38., 41., inf, 52., 29., 46., 90., 23., 98.],\n",
       "       [72., 32., 98., 52., inf, 63., 90., 69., 50., 82.],\n",
       "       [19., 31., 56., 29., 63., inf, 60., 88., 41., 95.],\n",
       "       [76., 75.,  6., 46., 90., 60., inf, 61., 92., 10.],\n",
       "       [87., 69.,  6., 90., 69., 88., 61., inf, 82., 73.],\n",
       "       [45., 61., 45., 23., 50., 41., 92., 82., inf,  5.],\n",
       "       [48., 25., 53., 98., 82., 95., 10., 73.,  5., inf]])"
      ]
     },
     "execution_count": 27,
     "metadata": {},
     "output_type": "execute_result"
    }
   ],
   "source": [
    "new_dict"
   ]
  },
  {
   "cell_type": "code",
   "execution_count": 28,
   "metadata": {},
   "outputs": [
    {
     "data": {
      "text/plain": [
       "array([[inf, 49., 30., 53., 72., 19., 76., 87., 45., 48.],\n",
       "       [49., inf, 19., 38., 32., 31., 75., 69., 61., 25.],\n",
       "       [30., 19., inf, 41., 98., 56.,  6.,  6., 45., 53.],\n",
       "       [53., 38., 41., inf, 52., 29., 46., 90., 23., 98.],\n",
       "       [72., 32., 98., 52., inf, 63., 90., 69., 50., 82.],\n",
       "       [19., 31., 56., 29., 63., inf, 60., 88., 41., 95.],\n",
       "       [76., 75.,  6., 46., 90., 60., inf, 61., 92., 10.],\n",
       "       [87., 69.,  6., 90., 69., 88., 61., inf, 82., 73.],\n",
       "       [45., 61., 45., 23., 50., 41., 92., 82., inf,  5.],\n",
       "       [48., 25., 53., 98., 82., 95., 10., 73.,  5., inf]])"
      ]
     },
     "execution_count": 28,
     "metadata": {},
     "output_type": "execute_result"
    }
   ],
   "source": [
    "new_dict = al.to_numpy().copy()\n",
    "new_dict"
   ]
  },
  {
   "cell_type": "markdown",
   "metadata": {},
   "source": [
    "# Tabu List"
   ]
  },
  {
   "cell_type": "code",
   "execution_count": 29,
   "metadata": {},
   "outputs": [
    {
     "name": "stdout",
     "output_type": "stream",
     "text": [
      "{0: [[0, 5, 3, 8, 9, 6, 2, 7, 1, 4, 0], 5.0]}\n"
     ]
    }
   ],
   "source": [
    "tabu_list = {}\n",
    "tabu_list[0] = [initialsolution(new_dict,dic),cities/2]\n",
    "print(tabu_list)"
   ]
  },
  {
   "cell_type": "code",
   "execution_count": 30,
   "metadata": {},
   "outputs": [
    {
     "data": {
      "text/plain": [
       "{0: [[0, 5, 3, 8, 9, 6, 2, 7, 1, 4, 0], 5.0]}"
      ]
     },
     "execution_count": 30,
     "metadata": {},
     "output_type": "execute_result"
    }
   ],
   "source": [
    "tabu_list"
   ]
  },
  {
   "cell_type": "code",
   "execution_count": 31,
   "metadata": {},
   "outputs": [],
   "source": [
    "def updateTabuList(new_element,indez, tabu_list,time):\n",
    "\n",
    "    aux = []\n",
    "#a_dict[key]\n",
    "    for key in tabu_list:\n",
    "        tabu_list[key] -= 1\n",
    "        if tabu_list[key] == 0:\n",
    "            aux.append(key)\n",
    "    for key in aux:\n",
    "        tabu_list.pop(key)\n",
    "    #tabu_list[list(tabu_list)[-1]+1] = [new_element,time]\n",
    "    tabu_list[indez] = time"
   ]
  },
  {
   "cell_type": "code",
   "execution_count": 32,
   "metadata": {},
   "outputs": [
    {
     "ename": "TypeError",
     "evalue": "unsupported operand type(s) for -=: 'list' and 'int'",
     "output_type": "error",
     "traceback": [
      "\u001b[1;31m---------------------------------------------------------------------------\u001b[0m",
      "\u001b[1;31mTypeError\u001b[0m                                 Traceback (most recent call last)",
      "\u001b[1;32m<ipython-input-32-e6de6cb805c7>\u001b[0m in \u001b[0;36m<module>\u001b[1;34m\u001b[0m\n\u001b[1;32m----> 1\u001b[1;33m \u001b[0mupdateTabuList\u001b[0m\u001b[1;33m(\u001b[0m\u001b[1;33m[\u001b[0m\u001b[1;36m0\u001b[0m\u001b[1;33m,\u001b[0m \u001b[1;36m8\u001b[0m\u001b[1;33m,\u001b[0m \u001b[1;36m3\u001b[0m\u001b[1;33m,\u001b[0m \u001b[1;36m5\u001b[0m\u001b[1;33m,\u001b[0m \u001b[1;36m9\u001b[0m\u001b[1;33m,\u001b[0m \u001b[1;36m6\u001b[0m\u001b[1;33m,\u001b[0m \u001b[1;36m2\u001b[0m\u001b[1;33m,\u001b[0m \u001b[1;36m7\u001b[0m\u001b[1;33m,\u001b[0m \u001b[1;36m1\u001b[0m\u001b[1;33m,\u001b[0m \u001b[1;36m4\u001b[0m\u001b[1;33m,\u001b[0m \u001b[1;36m0\u001b[0m\u001b[1;33m]\u001b[0m\u001b[1;33m,\u001b[0m\u001b[1;36m6\u001b[0m\u001b[1;33m,\u001b[0m\u001b[0mtabu_list\u001b[0m\u001b[1;33m,\u001b[0m\u001b[1;36m5\u001b[0m\u001b[1;33m)\u001b[0m\u001b[1;33m\u001b[0m\u001b[1;33m\u001b[0m\u001b[0m\n\u001b[0m",
      "\u001b[1;32m<ipython-input-31-acb347451031>\u001b[0m in \u001b[0;36mupdateTabuList\u001b[1;34m(new_element, indez, tabu_list, time)\u001b[0m\n\u001b[0;32m      4\u001b[0m \u001b[1;31m#a_dict[key]\u001b[0m\u001b[1;33m\u001b[0m\u001b[1;33m\u001b[0m\u001b[1;33m\u001b[0m\u001b[0m\n\u001b[0;32m      5\u001b[0m     \u001b[1;32mfor\u001b[0m \u001b[0mkey\u001b[0m \u001b[1;32min\u001b[0m \u001b[0mtabu_list\u001b[0m\u001b[1;33m:\u001b[0m\u001b[1;33m\u001b[0m\u001b[1;33m\u001b[0m\u001b[0m\n\u001b[1;32m----> 6\u001b[1;33m         \u001b[0mtabu_list\u001b[0m\u001b[1;33m[\u001b[0m\u001b[0mkey\u001b[0m\u001b[1;33m]\u001b[0m \u001b[1;33m-=\u001b[0m \u001b[1;36m1\u001b[0m\u001b[1;33m\u001b[0m\u001b[1;33m\u001b[0m\u001b[0m\n\u001b[0m\u001b[0;32m      7\u001b[0m         \u001b[1;32mif\u001b[0m \u001b[0mtabu_list\u001b[0m\u001b[1;33m[\u001b[0m\u001b[0mkey\u001b[0m\u001b[1;33m]\u001b[0m \u001b[1;33m==\u001b[0m \u001b[1;36m0\u001b[0m\u001b[1;33m:\u001b[0m\u001b[1;33m\u001b[0m\u001b[1;33m\u001b[0m\u001b[0m\n\u001b[0;32m      8\u001b[0m             \u001b[0maux\u001b[0m\u001b[1;33m.\u001b[0m\u001b[0mappend\u001b[0m\u001b[1;33m(\u001b[0m\u001b[0mkey\u001b[0m\u001b[1;33m)\u001b[0m\u001b[1;33m\u001b[0m\u001b[1;33m\u001b[0m\u001b[0m\n",
      "\u001b[1;31mTypeError\u001b[0m: unsupported operand type(s) for -=: 'list' and 'int'"
     ]
    }
   ],
   "source": [
    "updateTabuList([0, 8, 3, 5, 9, 6, 2, 7, 1, 4, 0],6,tabu_list,5)"
   ]
  },
  {
   "cell_type": "code",
   "execution_count": 33,
   "metadata": {},
   "outputs": [
    {
     "data": {
      "text/plain": [
       "{0: [[0, 5, 3, 8, 9, 6, 2, 7, 1, 4, 0], 5.0]}"
      ]
     },
     "execution_count": 33,
     "metadata": {},
     "output_type": "execute_result"
    }
   ],
   "source": [
    "tabu_list"
   ]
  },
  {
   "cell_type": "code",
   "execution_count": 34,
   "metadata": {},
   "outputs": [
    {
     "ename": "NameError",
     "evalue": "name 'a_dictionary' is not defined",
     "output_type": "error",
     "traceback": [
      "\u001b[1;31m---------------------------------------------------------------------------\u001b[0m",
      "\u001b[1;31mNameError\u001b[0m                                 Traceback (most recent call last)",
      "\u001b[1;32m<ipython-input-34-e4b9606fcf46>\u001b[0m in \u001b[0;36m<module>\u001b[1;34m\u001b[0m\n\u001b[0;32m      1\u001b[0m \u001b[0masdasd\u001b[0m \u001b[1;33m=\u001b[0m \u001b[1;33m[\u001b[0m\u001b[1;36m0\u001b[0m\u001b[1;33m,\u001b[0m \u001b[1;36m5\u001b[0m\u001b[1;33m,\u001b[0m \u001b[1;36m3\u001b[0m\u001b[1;33m,\u001b[0m \u001b[1;36m8\u001b[0m\u001b[1;33m,\u001b[0m \u001b[1;36m9\u001b[0m\u001b[1;33m,\u001b[0m \u001b[1;36m6\u001b[0m\u001b[1;33m,\u001b[0m \u001b[1;36m2\u001b[0m\u001b[1;33m,\u001b[0m \u001b[1;36m7\u001b[0m\u001b[1;33m,\u001b[0m \u001b[1;36m1\u001b[0m\u001b[1;33m,\u001b[0m \u001b[1;36m4\u001b[0m\u001b[1;33m,\u001b[0m \u001b[1;36m0\u001b[0m\u001b[1;33m]\u001b[0m\u001b[1;33m\u001b[0m\u001b[1;33m\u001b[0m\u001b[0m\n\u001b[1;32m----> 2\u001b[1;33m \u001b[0mcontains_1\u001b[0m \u001b[1;33m=\u001b[0m \u001b[1;36m1\u001b[0m \u001b[1;32min\u001b[0m \u001b[0ma_dictionary\u001b[0m\u001b[1;33m.\u001b[0m\u001b[0mvalues\u001b[0m\u001b[1;33m(\u001b[0m\u001b[1;33m)\u001b[0m\u001b[1;33m\u001b[0m\u001b[1;33m\u001b[0m\u001b[0m\n\u001b[0m\u001b[0;32m      3\u001b[0m \u001b[1;33m\u001b[0m\u001b[0m\n\u001b[0;32m      4\u001b[0m \u001b[1;32mfor\u001b[0m \u001b[0mi\u001b[0m \u001b[1;32min\u001b[0m \u001b[0mrange\u001b[0m\u001b[1;33m(\u001b[0m\u001b[0mlen\u001b[0m\u001b[1;33m(\u001b[0m\u001b[0mtabu_list\u001b[0m\u001b[1;33m)\u001b[0m\u001b[1;33m)\u001b[0m\u001b[1;33m:\u001b[0m\u001b[1;33m\u001b[0m\u001b[1;33m\u001b[0m\u001b[0m\n\u001b[0;32m      5\u001b[0m     \u001b[0mprint\u001b[0m\u001b[1;33m(\u001b[0m\u001b[0mtabu_list\u001b[0m\u001b[1;33m[\u001b[0m\u001b[0mi\u001b[0m\u001b[1;33m]\u001b[0m\u001b[1;33m)\u001b[0m\u001b[1;33m\u001b[0m\u001b[1;33m\u001b[0m\u001b[0m\n",
      "\u001b[1;31mNameError\u001b[0m: name 'a_dictionary' is not defined"
     ]
    }
   ],
   "source": [
    "asdasd = [0, 5, 3, 8, 9, 6, 2, 7, 1, 4, 0]\n",
    "contains_1 = 1 in a_dictionary.values()\n",
    "\n",
    "for i in range(len(tabu_list)):\n",
    "    print(tabu_list[i])"
   ]
  },
  {
   "cell_type": "code",
   "execution_count": 35,
   "metadata": {},
   "outputs": [
    {
     "data": {
      "text/plain": [
       "array([[inf, 49., 30., 53., 72., 19., 76., 87., 45., 48.],\n",
       "       [49., inf, 19., 38., 32., 31., 75., 69., 61., 25.],\n",
       "       [30., 19., inf, 41., 98., 56.,  6.,  6., 45., 53.],\n",
       "       [53., 38., 41., inf, 52., 29., 46., 90., 23., 98.],\n",
       "       [72., 32., 98., 52., inf, 63., 90., 69., 50., 82.],\n",
       "       [19., 31., 56., 29., 63., inf, 60., 88., 41., 95.],\n",
       "       [76., 75.,  6., 46., 90., 60., inf, 61., 92., 10.],\n",
       "       [87., 69.,  6., 90., 69., 88., 61., inf, 82., 73.],\n",
       "       [45., 61., 45., 23., 50., 41., 92., 82., inf,  5.],\n",
       "       [48., 25., 53., 98., 82., 95., 10., 73.,  5., inf]])"
      ]
     },
     "execution_count": 35,
     "metadata": {},
     "output_type": "execute_result"
    }
   ],
   "source": [
    "new_dict = al.to_numpy().copy()\n",
    "new_dict"
   ]
  },
  {
   "cell_type": "code",
   "execution_count": 36,
   "metadata": {},
   "outputs": [],
   "source": [
    "def getbestneighborhood(neigh,new_dict):\n",
    "    #neigh = getneighborhood(neighbor)\n",
    "    indextotal= []\n",
    "    for i in range(0,len(neigh)):\n",
    "        curr = gettotal(neigh[i],new_dict)\n",
    "        indextotal.append(curr)\n",
    "    while True:\n",
    "        minindex = np.argmin(indextotal)\n",
    "        if neigh[minindex] in tabu_list.values():\n",
    "            neigh.pop(minindex)\n",
    "            indextotal.pop(minindex)\n",
    "        else:\n",
    "            return neigh[minindex]\n",
    "            break\n",
    "        \n",
    "        \n"
   ]
  },
  {
   "cell_type": "code",
   "execution_count": 37,
   "metadata": {},
   "outputs": [],
   "source": [
    "tabu_list={}"
   ]
  },
  {
   "cell_type": "code",
   "execution_count": 38,
   "metadata": {},
   "outputs": [
    {
     "data": {
      "text/plain": [
       "0"
      ]
     },
     "execution_count": 38,
     "metadata": {},
     "output_type": "execute_result"
    }
   ],
   "source": [
    "len(tabu_list)"
   ]
  },
  {
   "cell_type": "code",
   "execution_count": 39,
   "metadata": {},
   "outputs": [],
   "source": [
    "def reductedneighborhood(initial,new_dict,tabu_list):\n",
    "    #initial = [0, 4, 3, 7, 5, 2, 6, 8, 1, 0]\n",
    "    random_pos = random.randint(1,8)\n",
    "    rand_num = initial[random_pos]\n",
    "    newmoves = []\n",
    "    initial2 = initial.copy()\n",
    "    bloc = initial.copy()\n",
    "    #tabu_list[initial[movto]] = time\n",
    "    for i in range(1,len(initial)-1):\n",
    "        a = initial[random_pos]\n",
    "        b = initial[i]\n",
    "        initial2[random_pos] = b\n",
    "        initial2[i] = a\n",
    "        newmoves.append(initial2)\n",
    "        initial2 = initial.copy()\n",
    "    newmoves.remove(bloc)\n",
    "    if len(tabu_list) == 0:\n",
    "        tabu_list[rand_num] = 5\n",
    "    indextotal= []\n",
    "    for i in range(0,len(newmoves)):\n",
    "        curr = gettotal(newmoves[i],new_dict)\n",
    "        indextotal.append(curr)\n",
    "    while True:\n",
    "        minindex = np.argmin(indextotal)\n",
    "        if newmoves[minindex] in tabu_list.values():\n",
    "            newmoves.pop(minindex)\n",
    "            indextotal.pop(minindex)\n",
    "        else:\n",
    "            return newmoves[minindex],rand_num\n",
    "            \n",
    "      "
   ]
  },
  {
   "cell_type": "code",
   "execution_count": 40,
   "metadata": {},
   "outputs": [
    {
     "data": {
      "text/plain": [
       "([0, 4, 3, 8, 9, 6, 2, 7, 1, 5, 0], 5)"
      ]
     },
     "execution_count": 40,
     "metadata": {},
     "output_type": "execute_result"
    }
   ],
   "source": [
    "reductedneighborhood([0, 5, 3, 8, 9, 6, 2, 7, 1, 4, 0],new_dict,tabu_list)\n"
   ]
  },
  {
   "cell_type": "code",
   "execution_count": 41,
   "metadata": {},
   "outputs": [
    {
     "data": {
      "text/plain": [
       "{5: 5}"
      ]
     },
     "execution_count": 41,
     "metadata": {},
     "output_type": "execute_result"
    }
   ],
   "source": [
    "tabu_list"
   ]
  },
  {
   "cell_type": "code",
   "execution_count": null,
   "metadata": {},
   "outputs": [],
   "source": []
  },
  {
   "cell_type": "code",
   "execution_count": 42,
   "metadata": {},
   "outputs": [],
   "source": [
    "def getneighborhood(initial):\n",
    "#initial = [0, 4, 3, 7, 5, 2, 6, 8, 1, 0]\n",
    "    random_pos = random.randint(1,8)\n",
    "    rand_num = initial[random_pos]\n",
    "    newmoves = []\n",
    "    initial2 = initial.copy()\n",
    "    bloc = initial.copy()\n",
    "    #tabu_list[initial[movto]] = time\n",
    "    for i in range(1,len(initial)-1):\n",
    "        a = initial[random_pos]\n",
    "        b = initial[i]\n",
    "        initial2[movto] = b\n",
    "        initial2[i] = a\n",
    "        newmoves.append(initial2)\n",
    "        initial2 = initial.copy()\n",
    "    \n",
    "    newmoves.remove(bloc) \n",
    "    return newmoves,rand_num"
   ]
  },
  {
   "cell_type": "code",
   "execution_count": 43,
   "metadata": {},
   "outputs": [
    {
     "ename": "NameError",
     "evalue": "name 'neigh' is not defined",
     "output_type": "error",
     "traceback": [
      "\u001b[1;31m---------------------------------------------------------------------------\u001b[0m",
      "\u001b[1;31mNameError\u001b[0m                                 Traceback (most recent call last)",
      "\u001b[1;32m<ipython-input-43-68cae8c66d2a>\u001b[0m in \u001b[0;36m<module>\u001b[1;34m\u001b[0m\n\u001b[1;32m----> 1\u001b[1;33m \u001b[0mneigh\u001b[0m\u001b[1;33m\u001b[0m\u001b[1;33m\u001b[0m\u001b[0m\n\u001b[0m",
      "\u001b[1;31mNameError\u001b[0m: name 'neigh' is not defined"
     ]
    }
   ],
   "source": [
    "neigh"
   ]
  },
  {
   "cell_type": "code",
   "execution_count": 44,
   "metadata": {},
   "outputs": [
    {
     "ename": "NameError",
     "evalue": "name 'neigh' is not defined",
     "output_type": "error",
     "traceback": [
      "\u001b[1;31m---------------------------------------------------------------------------\u001b[0m",
      "\u001b[1;31mNameError\u001b[0m                                 Traceback (most recent call last)",
      "\u001b[1;32m<ipython-input-44-deefee493c9e>\u001b[0m in \u001b[0;36m<module>\u001b[1;34m\u001b[0m\n\u001b[1;32m----> 1\u001b[1;33m \u001b[0mneigh\u001b[0m\u001b[1;33m.\u001b[0m\u001b[0mpop\u001b[0m\u001b[1;33m(\u001b[0m\u001b[1;36m5\u001b[0m\u001b[1;33m)\u001b[0m\u001b[1;33m\u001b[0m\u001b[1;33m\u001b[0m\u001b[0m\n\u001b[0m",
      "\u001b[1;31mNameError\u001b[0m: name 'neigh' is not defined"
     ]
    }
   ],
   "source": [
    "neigh.pop(5)"
   ]
  },
  {
   "cell_type": "code",
   "execution_count": 45,
   "metadata": {},
   "outputs": [
    {
     "data": {
      "text/plain": [
       "array([[inf, 49., 30., 53., 72., 19., 76., 87., 45., 48.],\n",
       "       [49., inf, 19., 38., 32., 31., 75., 69., 61., 25.],\n",
       "       [30., 19., inf, 41., 98., 56.,  6.,  6., 45., 53.],\n",
       "       [53., 38., 41., inf, 52., 29., 46., 90., 23., 98.],\n",
       "       [72., 32., 98., 52., inf, 63., 90., 69., 50., 82.],\n",
       "       [19., 31., 56., 29., 63., inf, 60., 88., 41., 95.],\n",
       "       [76., 75.,  6., 46., 90., 60., inf, 61., 92., 10.],\n",
       "       [87., 69.,  6., 90., 69., 88., 61., inf, 82., 73.],\n",
       "       [45., 61., 45., 23., 50., 41., 92., 82., inf,  5.],\n",
       "       [48., 25., 53., 98., 82., 95., 10., 73.,  5., inf]])"
      ]
     },
     "execution_count": 45,
     "metadata": {},
     "output_type": "execute_result"
    }
   ],
   "source": [
    "new_dict = al.to_numpy().copy()\n",
    "new_dict"
   ]
  },
  {
   "cell_type": "markdown",
   "metadata": {},
   "source": [
    "# Todo completo"
   ]
  },
  {
   "cell_type": "code",
   "execution_count": 46,
   "metadata": {},
   "outputs": [],
   "source": [
    "def TabuSearch(maxiter, cities,new_dict,dic):\n",
    "\n",
    "    back = new_dict.copy()\n",
    "    x = initialsolution(new_dict,dic)\n",
    "    new_dict = back.copy()\n",
    "    f_x = gettotal(x,new_dict)\n",
    "    BestX = x.copy()\n",
    "    BestF = f_x\n",
    "    tabu_list = {}\n",
    "    tabu_time = cities//2\n",
    "    #Definimos el tiempo tabú\n",
    "\n",
    "    for k in range(maxiter):\n",
    "        #Obtenemos nuestro vecindario reducido\n",
    "        #neighborhood = getneighborhood(x)\n",
    "        #Si nuestro vecindario está vacío, ya no podemos movernos\n",
    "        #a otra solución y debemos terminar la búsqueda\n",
    "        #if len(neighborhood) == 0:\n",
    "        #    break\n",
    "        #Nuestra siguiente solución es la mejor del vecindario\n",
    "        best_neighbor = reductedneighborhood(x,new_dict,tabu_list)\n",
    "        new_dict = back.copy()\n",
    "        x,inde = best_neighbor\n",
    "        f_x = gettotal(x,new_dict)\n",
    "        #Verificamos si la nueva solución\n",
    "        #es mejor que lo que conocemos\n",
    "        if f_x <= BestF:\n",
    "            BestX = x.copy()\n",
    "            BestF = f_x\n",
    "        #Actualizamos la lista tabú\n",
    "        updateTabuList(x,inde, tabu_list,tabu_time)\n",
    "    new_dict = back.copy()\n",
    "\n",
    "    return BestX, BestF\n"
   ]
  },
  {
   "cell_type": "code",
   "execution_count": 63,
   "metadata": {},
   "outputs": [
    {
     "data": {
      "text/plain": [
       "([0, 5, 1, 4, 3, 8, 9, 6, 7, 2, 0], 269.0)"
      ]
     },
     "execution_count": 63,
     "metadata": {},
     "output_type": "execute_result"
    }
   ],
   "source": [
    "TabuSearch(maxiter,cities,new_dict.copy(),dic)"
   ]
  },
  {
   "cell_type": "markdown",
   "metadata": {},
   "source": [
    "# 20 Puntos"
   ]
  },
  {
   "cell_type": "markdown",
   "metadata": {},
   "source": [
    "## Input"
   ]
  },
  {
   "cell_type": "code",
   "execution_count": 4,
   "metadata": {},
   "outputs": [],
   "source": [
    "def tabucustom():\n",
    "    print(\"Txt name\")\n",
    "    txt = input()\n",
    "    print(\"M iterations\")\n",
    "    M = int(input())\n",
    "        \n",
    "    with open(txt, 'r') as file:\n",
    "         input_lines = [line.strip() for line in file]\n",
    "    global cities \n",
    "    cities = int(input_lines[0])\n",
    "    maxiter = int(input_lines[1])\n",
    "\n",
    "\n",
    "\n",
    "\n",
    "    cost_city = [] \n",
    "    for i in range(2,cities+1):\n",
    "        costos_ni = list(map(int,input_lines[i].split()))\n",
    "        cost_city.append(costos_ni)\n",
    "\n",
    "    new_cost = np.zeros((cities, cities))\n",
    "    for i in range(len(cost_city)+1):\n",
    "        new_cost[i][i] = float('inf')\n",
    "    c = 1\n",
    "    for i in range(len(cost_city)):\n",
    "        new_cost[i][c:] = cost_city[i]\n",
    "        c+=1\n",
    "    dic = {idx + 1 : new_cost[idx] for idx in range(len(new_cost))} \n",
    "    #######################################################\n",
    "    for j in range(cities):\n",
    "        count=0\n",
    "        for i in range(len(new_cost[j])):#sera j\n",
    "            if new_cost[i][j] == 0:\n",
    "                new_cost[i][j] =new_cost[j][count]\n",
    "            count+=1\n",
    "           \n",
    "            \n",
    "    def powa(new_dict,target):\n",
    "        \n",
    "        global cities\n",
    "        for i in range(cities):\n",
    "            new_dict[i][target]  = float('inf')\n",
    "\n",
    "    def initialsolution(new_dict,dic):\n",
    "        global cities\n",
    "        back = new_dict.copy()\n",
    "        path= [0]\n",
    "        total = 0\n",
    "        currcity = 0\n",
    "        powa(new_dict,0)\n",
    "        for i in range(0,cities-1):\n",
    "\n",
    "            min_= np.argmin(new_dict[currcity])\n",
    "            total = total + new_dict[currcity][min_]\n",
    "            path.append(min_)\n",
    "            currcity = min_\n",
    "            powa(new_dict,min_)\n",
    "\n",
    "        path.append(0)\n",
    "        total = total+dic[1][path[-2]]\n",
    "        new_dict = back.copy()\n",
    "\n",
    "        return path\n",
    "    \n",
    "\n",
    "    \n",
    "    def gettotal(x,new_dict):\n",
    "        back = new_dict\n",
    "        total = 0\n",
    "        currcity = 0\n",
    "        co = 0\n",
    "        for i in x:\n",
    "            if co == 9:\n",
    "                break\n",
    "            total = total + new_dict[i][x[co+1]]\n",
    "            co+=1\n",
    "        lastcity = x[-2]\n",
    "        destiny = x[-1]\n",
    "        total += new_dict[lastcity][destiny]\n",
    "        new_dict = back\n",
    "\n",
    "        return total\n",
    "\n",
    "\n",
    "    def getneighborhood(initial):\n",
    "        global cities\n",
    "        random_pos = random.randint(1,cities-2)\n",
    "        rand_num = initial[random_pos]\n",
    "        newmoves = []\n",
    "        initial2 = initial.copy()\n",
    "        bloc = initial.copy()\n",
    "        #tabu_list[initial[movto]] = time\n",
    "        for i in range(1,len(initial)-1):\n",
    "            a = initial[random_pos]\n",
    "            b = initial[i]\n",
    "            initial2[random_pos] = b\n",
    "            initial2[i] = a\n",
    "            newmoves.append(initial2)\n",
    "            initial2 = initial.copy()\n",
    "\n",
    "        newmoves.remove(bloc) \n",
    "        return newmoves,rand_num\n",
    "\n",
    "\n",
    "    def updateTabuList(new_element,indez, tabu_list,time):\n",
    "        aux = []\n",
    "        for key in tabu_list:\n",
    "            tabu_list[key] -= 1\n",
    "            if tabu_list[key] == 0:\n",
    "                aux.append(key)\n",
    "        for key in aux:\n",
    "            tabu_list.pop(key)\n",
    "        tabu_list[indez] = time\n",
    "\n",
    "    def reductedneighborhood(initial,new_dict,tabu_list):\n",
    "        global cities\n",
    "        random_pos = random.randint(1,cities-2)\n",
    "        rand_num = initial[random_pos]\n",
    "        newmoves = []\n",
    "        initial2 = initial.copy()\n",
    "        bloc = initial.copy()\n",
    "        for i in range(1,len(initial)-1):\n",
    "            a = initial[random_pos]\n",
    "            b = initial[i]\n",
    "            initial2[random_pos] = b\n",
    "            initial2[i] = a\n",
    "            newmoves.append(initial2)\n",
    "            initial2 = initial.copy()\n",
    "        newmoves.remove(bloc)\n",
    "        if len(tabu_list) == 0:\n",
    "            tabu_list[rand_num] = 5\n",
    "        indextotal= []\n",
    "        for i in range(0,len(newmoves)):\n",
    "            curr = gettotal(newmoves[i],new_dict)\n",
    "            indextotal.append(curr)\n",
    "        while True:\n",
    "            minindex = np.argmin(indextotal)\n",
    "            if newmoves[minindex] in tabu_list.values():\n",
    "                newmoves.pop(minindex)\n",
    "                indextotal.pop(minindex)\n",
    "            else:\n",
    "                return newmoves[minindex],rand_num\n",
    "\n",
    "\n",
    "    def TabuSearch(maxiter, cities,new_dict,dic):\n",
    "\n",
    "        back = new_dict.copy()\n",
    "        x = initialsolution(new_dict,dic)\n",
    "        new_dict = back.copy()\n",
    "        f_x = gettotal(x,new_dict)\n",
    "        BestX = x.copy()\n",
    "        BestF = f_x\n",
    "        tabu_list = {}\n",
    "        tabu_time = cities//2\n",
    "        #Definimos el tiempo tabú\n",
    "\n",
    "        for k in range(maxiter):\n",
    "\n",
    "            best_neighbor = reductedneighborhood(x,new_dict,tabu_list)\n",
    "            new_dict = back.copy()\n",
    "            x,inde = best_neighbor\n",
    "            f_x = gettotal(x,new_dict)\n",
    "            if f_x <= BestF:\n",
    "                BestX = x.copy()\n",
    "                BestF = f_x\n",
    "            updateTabuList(x,inde, tabu_list,tabu_time)\n",
    "        new_dict = back.copy()\n",
    "\n",
    "        return BestX, BestF\n",
    "\n",
    "    solutions =[]\n",
    "    best = float('inf')\n",
    "    best_index = 0\n",
    "    worst = 0\n",
    "    worst_index = 0\n",
    "    for i in range(M):\n",
    "        curr = TabuSearch(maxiter,cities,new_cost.copy(),dic)\n",
    "        if curr[1] < best:\n",
    "            best = curr[1]\n",
    "            best_index = curr[0]\n",
    "        if curr[1] > worst:\n",
    "            worst = curr[1]\n",
    "            worst_index = curr[0]\n",
    "\n",
    "        solutions.append(curr)\n",
    "\n",
    "\n",
    "\n",
    "    def get_median(n):\n",
    "        n = sorted(solutions, key=lambda tup: tup[1])\n",
    "        l = len(n)\n",
    "        if l%2 == 0:\n",
    "            return n[(l//2)]\n",
    "        else:\n",
    "            return n[(l//2)-1]\n",
    "\n",
    "    def mean(solutions):\n",
    "        mean = 0\n",
    "        for i in range(len(solutions)):\n",
    "            mean = mean +solutions[i][1]\n",
    "        return (mean/len(solutions))\n",
    "\n",
    "    def std(solutions):\n",
    "        m = mean(solutions)\n",
    "        all_ = 0\n",
    "        for i in range(len(solutions)):\n",
    "            all_ = all_ + (solutions[i][1] - m)**2\n",
    "        return np.sqrt(all_/len(solutions))\n",
    "    print(\"Best Solution:\",best_index,best)\n",
    "    print(\"Worst Solution:\",worst_index,worst)\n",
    "    print(\"Median:\",get_median(solutions))\n",
    "    print(\"Mean: \",mean(solutions))\n",
    "    print(\"Standard deviation:\",std(solutions))"
   ]
  },
  {
   "cell_type": "code",
   "execution_count": 5,
   "metadata": {},
   "outputs": [
    {
     "name": "stdout",
     "output_type": "stream",
     "text": [
      "Txt name\n"
     ]
    },
    {
     "name": "stdin",
     "output_type": "stream",
     "text": [
      " untitled.txt\n"
     ]
    },
    {
     "name": "stdout",
     "output_type": "stream",
     "text": [
      "M iterations\n"
     ]
    },
    {
     "name": "stdin",
     "output_type": "stream",
     "text": [
      " 100\n"
     ]
    },
    {
     "name": "stdout",
     "output_type": "stream",
     "text": [
      "Best Solution: [0, 5, 1, 4, 3, 8, 9, 6, 2, 7, 11, 10, 0] 239.0\n",
      "Worst Solution: [0, 5, 3, 8, 9, 6, 2, 7, 10, 1, 4, 11, 0] 274.0\n",
      "Median: ([0, 5, 3, 8, 9, 6, 2, 1, 4, 10, 7, 11, 0], 264.0)\n",
      "Mean:  262.78\n",
      "Standard deviation: 8.810879638265408\n"
     ]
    }
   ],
   "source": [
    "tabucustom()"
   ]
  },
  {
   "cell_type": "code",
   "execution_count": 6,
   "metadata": {},
   "outputs": [
    {
     "name": "stdout",
     "output_type": "stream",
     "text": [
      "Txt name\n"
     ]
    },
    {
     "name": "stdin",
     "output_type": "stream",
     "text": [
      " Real.txt\n"
     ]
    },
    {
     "name": "stdout",
     "output_type": "stream",
     "text": [
      "M iterations\n"
     ]
    },
    {
     "name": "stdin",
     "output_type": "stream",
     "text": [
      " 200\n"
     ]
    },
    {
     "name": "stdout",
     "output_type": "stream",
     "text": [
      "Best Solution: [0, 5, 3, 8, 9, 6, 2, 7, 4, 1, 0] 248.0\n",
      "Worst Solution: [0, 5, 3, 8, 9, 6, 2, 7, 1, 4, 0] 271.0\n",
      "Median: ([0, 5, 3, 1, 4, 7, 2, 6, 9, 8, 0], 259.0)\n",
      "Mean:  259.845\n",
      "Standard deviation: 10.333488036476357\n"
     ]
    }
   ],
   "source": [
    "tabucustom()"
   ]
  }
 ],
 "metadata": {
  "kernelspec": {
   "display_name": "Python 3",
   "language": "python",
   "name": "python3"
  },
  "language_info": {
   "codemirror_mode": {
    "name": "ipython",
    "version": 3
   },
   "file_extension": ".py",
   "mimetype": "text/x-python",
   "name": "python",
   "nbconvert_exporter": "python",
   "pygments_lexer": "ipython3",
   "version": "3.8.5"
  }
 },
 "nbformat": 4,
 "nbformat_minor": 4
}
